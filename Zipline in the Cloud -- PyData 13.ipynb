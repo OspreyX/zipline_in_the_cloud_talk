{
 "metadata": {
  "name": "Zipline in the Cloud -- PyData 13"
 },
 "nbformat": 3,
 "nbformat_minor": 0,
 "worksheets": [
  {
   "cells": [
    {
     "cell_type": "markdown",
     "metadata": {
      "slideshow": {
       "slide_type": "slide"
      }
     },
     "source": [
      "Zipline in the Cloud\n",
      "====================\n",
      "\n",
      "Thomas Wiecki\n",
      "\n",
      "![](http://www.mountainexposures.co.uk/images/Sunset-over-a-cloud-inversion.jpg)\n",
      "\n",
      "Source: http://www.mountainexposures.co.uk\n",
      "<!---\n",
      "![Zipline in the Cloud](http://farm3.staticflickr.com/2088/2248835305_95e779ff4e_z.jpg)\n",
      "http://images.nationalgeographic.com/wpf/media-live/photos/000/212/cache/sugarloaf-mountain-cable-cars_21251_600x450.jpg\n",
      "--->"
     ]
    },
    {
     "cell_type": "markdown",
     "metadata": {
      "slideshow": {
       "slide_type": "slide"
      }
     },
     "source": [
      "About me\n",
      "========\n",
      "\n",
      "* [PhD student](https://sites.google.com/a/brown.edu/lncc/home/members/thomas-wiecki) at Brown University.\n",
      "    * Computational Cognitive Neuroscience.\n",
      "* Quantitative Researcher at [Quantopian](http://www.quantopian.com).\n",
      "    * Optimizing trading algorithms."
     ]
    },
    {
     "cell_type": "markdown",
     "metadata": {
      "slideshow": {
       "slide_type": "slide"
      }
     },
     "source": [
      "Algorithmic Trading\n",
      "===================\n",
      "\n",
      "* Algorithm makes trading decision automatically, based on external events (price, volume, twitter trends...)"
     ]
    },
    {
     "cell_type": "markdown",
     "metadata": {
      "slideshow": {
       "slide_type": "slide"
      }
     },
     "source": [
      "Backtesting\n",
      "-----------\n",
      "\n",
      "![](http://i.qkme.me/3tunhs.jpg)"
     ]
    },
    {
     "cell_type": "markdown",
     "metadata": {
      "slideshow": {
       "slide_type": "slide"
      }
     },
     "source": [
      "Zipline [http://zipline.io/](http://zipline.io/)\n",
      "--------------------------\n",
      "\n",
      "* Open-source backtester written in Python.\n",
      "* Simulates real trading:\n",
      "    * Transaction costs\n",
      "    * Slippage\n",
      "    * Streaming of financial data:\n",
      "        * prevents look-ahead bias.\n",
      "        * portable to live-trading.\n",
      "* Batteries included: moving average, alpha, beta, Sharpe ratio...\n",
      "* Used in production on [Quantopian](http://www.quantopian.com)."
     ]
    },
    {
     "cell_type": "markdown",
     "metadata": {
      "slideshow": {
       "slide_type": "slide"
      }
     },
     "source": [
      "Story-Time\n",
      "----------\n",
      "\n",
      "Posted article on trading strategy on Quantopian forums:\n",
      "\n",
      "![](http://i.imgur.com/0rdogCb.png)"
     ]
    },
    {
     "cell_type": "code",
     "collapsed": false,
     "input": [
      "from IPython.display import HTML\n",
      "HTML(\"<iframe src=https://www.quantopian.com/posts/olmar-implementation-fixed-bug width=1100 height=350></iframe>\")"
     ],
     "language": "python",
     "metadata": {
      "slideshow": {
       "slide_type": "slide"
      }
     },
     "outputs": [
      {
       "html": [
        "<iframe src=https://www.quantopian.com/posts/olmar-implementation-fixed-bug width=1100 height=350></iframe>"
       ],
       "output_type": "pyout",
       "prompt_number": 9,
       "text": [
        "<IPython.core.display.HTML at 0x9e8f1ec>"
       ]
      }
     ],
     "prompt_number": 9
    },
    {
     "cell_type": "code",
     "collapsed": false,
     "input": [
      "%pylab inline\n",
      "import sys\n",
      "import logbook\n",
      "zipline_logging = logbook.NestedSetup([\n",
      "    logbook.NullHandler(level=logbook.DEBUG, bubble=True),\n",
      "    logbook.StreamHandler(sys.stdout, level=logbook.INFO),\n",
      "    logbook.StreamHandler(sys.stderr, level=logbook.ERROR),\n",
      "])\n",
      "zipline_logging.push_application()\n",
      "import numpy as np\n",
      "import datetime"
     ],
     "language": "python",
     "metadata": {
      "slideshow": {
       "slide_type": "skip"
      }
     },
     "outputs": [
      {
       "output_type": "stream",
       "stream": "stdout",
       "text": [
        "\n",
        "Welcome to pylab, a matplotlib-based Python environment [backend: module://IPython.kernel.zmq.pylab.backend_inline].\n",
        "For more information, type 'help(pylab)'.\n"
       ]
      }
     ],
     "prompt_number": 1
    },
    {
     "cell_type": "markdown",
     "metadata": {
      "slideshow": {
       "slide_type": "slide"
      }
     },
     "source": [
      "Here, I ported the algorithm to Zipline:"
     ]
    },
    {
     "cell_type": "code",
     "collapsed": false,
     "input": [
      "import zipline\n",
      "\n",
      "STOCKS = ['AMD', 'CERN', 'COST', 'DELL', 'GPS', 'INTC', 'MMM']\n",
      "\n",
      "class OLMAR(zipline.TradingAlgorithm):\n",
      "    def initialize(self, eps=1, window_length=5):\n",
      "        self.stocks = STOCKS\n",
      "        self.m = len(self.stocks)\n",
      "        self.price = {}\n",
      "        self.b_t = np.ones(self.m) / self.m\n",
      "        self.last_desired_port = np.ones(self.m) / self.m\n",
      "        self.eps = eps\n",
      "        self.init = True\n",
      "        self.days = 0\n",
      "        self.window_length = window_length\n",
      "        self.add_transform(zipline.transforms.MovingAverage, 'mavg', ['price'],\n",
      "                           window_length=window_length)\n",
      "        \n",
      "        self.set_slippage(zipline.finance.slippage.FixedSlippage())\n",
      "        self.set_commission(zipline.finance.commission.PerShare(cost=0))\n",
      "\n",
      "    def handle_data(self, data):\n",
      "        self.days += 1\n",
      "        if self.days < self.window_length:\n",
      "           return\n",
      "        \n",
      "        if self.init:\n",
      "            self.rebalance_portfolio(data, self.b_t)\n",
      "            self.init = False\n",
      "            return\n",
      "\n",
      "        m = self.m\n",
      "\n",
      "        x_tilde = np.zeros(m)\n",
      "        b = np.zeros(m)\n",
      "\n",
      "        # find relative moving average price for each security\n",
      "        for i, stock in enumerate(self.stocks):\n",
      "            price = data[stock].price\n",
      "            # Relative mean deviation\n",
      "            x_tilde[i] = data[stock]['mavg']['price'] / price\n",
      "\n",
      "        ###########################\n",
      "        # Inside of OLMAR (algo 2)\n",
      "        x_bar = x_tilde.mean()\n",
      "        \n",
      "        # market relative deviation\n",
      "        mark_rel_dev = x_tilde - x_bar\n",
      "\n",
      "        # Expected return with current portfolio\n",
      "        exp_return = np.dot(self.b_t, x_tilde)\n",
      "        weight = self.eps - exp_return\n",
      "\n",
      "        variability = (np.linalg.norm(mark_rel_dev))**2\n",
      "\n",
      "        if variability == 0.0:\n",
      "            step_size = 0 # no portolio update\n",
      "        else:\n",
      "            step_size = max(0, weight/variability)\n",
      "\n",
      "        b = self.b_t + step_size*mark_rel_dev\n",
      "        b_norm = simplex_projection(b)\n",
      "        \n",
      "        #print b_norm\n",
      "        self.rebalance_portfolio(data, b_norm)\n",
      "        \n",
      "        # Predicted return with new portfolio\n",
      "        pred_return = np.dot(b_norm, x_tilde)\n",
      "\n",
      "        # update portfolio\n",
      "        self.b_t = b_norm\n",
      "\n",
      "    def rebalance_portfolio(self, data, desired_port):\n",
      "        #rebalance portfolio\n",
      "        desired_amount = np.zeros_like(desired_port)\n",
      "        current_amount = np.zeros_like(desired_port)\n",
      "        prices = np.zeros_like(desired_port)\n",
      "        \n",
      "        if self.init:\n",
      "            positions_value = self.portfolio.starting_cash\n",
      "        else:\n",
      "            positions_value = self.portfolio.positions_value + self.portfolio.cash\n",
      "        \n",
      "        for i, stock in enumerate(self.stocks):\n",
      "            current_amount[i] = self.portfolio.positions[stock].amount\n",
      "            prices[i] = data[stock].price\n",
      "        \n",
      "        desired_amount = np.round(desired_port * positions_value / prices)\n",
      "        diff_amount = desired_amount - current_amount\n",
      "\n",
      "        for i, stock in enumerate(self.stocks):\n",
      "            self.order(stock, diff_amount[i]) #order_stock\n",
      "\n",
      "def simplex_projection(v, b=1):\n",
      "    \"\"\"Projection vectors to the simplex domain\n",
      "\n",
      "    Implemented according to the paper: Efficient projections onto the\n",
      "    l1-ball for learning in high dimensions, John Duchi, et al. ICML 2008.\n",
      "    Implementation Time: 2011 June 17 by Bin@libin AT pmail.ntu.edu.sg\n",
      "    Optimization Problem: min_{w}\\| w - v \\|_{2}^{2}\n",
      "    s.t. sum_{i=1}^{m}=z, w_{i}\\geq 0\n",
      "\n",
      "    Input: A vector v \\in R^{m}, and a scalar z > 0 (default=1)\n",
      "    Output: Projection vector w\n",
      "\n",
      "    :Example:\n",
      "    >>> proj = simplex_projection([.4 ,.3, -.4, .5])\n",
      "    >>> print proj\n",
      "    array([ 0.33333333, 0.23333333, 0. , 0.43333333])\n",
      "    >>> print proj.sum()\n",
      "    1.0\n",
      "\n",
      "    Original matlab implementation: John Duchi (jduchi@cs.berkeley.edu)\n",
      "    Python-port: Copyright 2012 by Thomas Wiecki (thomas.wiecki@gmail.com).\n",
      "    \"\"\"\n",
      "\n",
      "    v = np.asarray(v)\n",
      "    p = len(v)\n",
      "\n",
      "    # Sort v into u in descending order\n",
      "    v = (v > 0) * v\n",
      "    u = np.sort(v)[::-1]\n",
      "    sv = np.cumsum(u)\n",
      "\n",
      "    rho = np.where(u > (sv - b) / np.arange(1, p+1))[0][-1]\n",
      "    theta = np.max([0, (sv[rho] - b) / (rho+1)])\n",
      "    w = (v - theta)\n",
      "    w[w<0] = 0\n",
      "    return w"
     ],
     "language": "python",
     "metadata": {
      "slideshow": {
       "slide_type": "slide"
      }
     },
     "outputs": [],
     "prompt_number": 2
    },
    {
     "cell_type": "heading",
     "level": 2,
     "metadata": {
      "slideshow": {
       "slide_type": "slide"
      }
     },
     "source": [
      "Simplified version"
     ]
    },
    {
     "cell_type": "code",
     "collapsed": false,
     "input": [
      "import zipline\n",
      "\n",
      "class OLMARb(zipline.TradingAlgorithm):\n",
      "    def initialize(self, eps=1, window_length=5):\n",
      "        # How aggresive should we rebalance the portfolio\n",
      "        self.eps = eps\n",
      "        # How many days to compute the moving average over\n",
      "        self.window_length = window_length\n",
      "        # Include mavg transform into simulation. Makes it available\n",
      "        # in handle_data() below.\n",
      "        self.add_transform(zipline.transforms.MovingAverage, 'mavg', ['price'],\n",
      "                           window_length=window_length)\n",
      "\n",
      "    def handle_data(self, data):\n",
      "        # Calculate how much each price diverged from its moving average\n",
      "        for stock in data:\n",
      "            deviation_from_mavg[stock] = data[stock].price - data[stock].mavg\n",
      "        \n",
      "        # Calculate new portfolio allocation\n",
      "        desired_portfolio = current_portfolio + self.eps * deviation_from_mavg\n",
      "        \n",
      "        # Rebalance portfolio\n",
      "        self.rebalance_portfolio(desired_portfolio)"
     ],
     "language": "python",
     "metadata": {},
     "outputs": []
    },
    {
     "cell_type": "heading",
     "level": 3,
     "metadata": {
      "slideshow": {
       "slide_type": "slide"
      }
     },
     "source": [
      "Import data from yahoo finance."
     ]
    },
    {
     "cell_type": "code",
     "collapsed": false,
     "input": [
      "start = datetime.datetime(2001, 8, 1)\n",
      "end = datetime.datetime(2013, 2, 1)"
     ],
     "language": "python",
     "metadata": {
      "slideshow": {
       "slide_type": "fragment"
      }
     },
     "outputs": [],
     "prompt_number": 3
    },
    {
     "cell_type": "code",
     "collapsed": false,
     "input": [
      "data = zipline.utils.load_from_yahoo(stocks=STOCKS, indexes={}, start=start, end=end)"
     ],
     "language": "python",
     "metadata": {
      "slideshow": {
       "slide_type": "fragment"
      }
     },
     "outputs": [
      {
       "output_type": "stream",
       "stream": "stdout",
       "text": [
        "AMD\n",
        "CERN"
       ]
      },
      {
       "output_type": "stream",
       "stream": "stdout",
       "text": [
        "\n",
        "COST"
       ]
      },
      {
       "output_type": "stream",
       "stream": "stdout",
       "text": [
        "\n",
        "DELL"
       ]
      },
      {
       "output_type": "stream",
       "stream": "stdout",
       "text": [
        "\n",
        "GPS"
       ]
      },
      {
       "output_type": "stream",
       "stream": "stdout",
       "text": [
        "\n",
        "INTC"
       ]
      },
      {
       "output_type": "stream",
       "stream": "stdout",
       "text": [
        "\n",
        "MMM"
       ]
      },
      {
       "output_type": "stream",
       "stream": "stdout",
       "text": [
        "\n"
       ]
      }
     ],
     "prompt_number": 4
    },
    {
     "cell_type": "code",
     "collapsed": false,
     "input": [
      "data = data.dropna()"
     ],
     "language": "python",
     "metadata": {
      "slideshow": {
       "slide_type": "skip"
      }
     },
     "outputs": [],
     "prompt_number": 5
    },
    {
     "cell_type": "code",
     "collapsed": false,
     "input": [
      "data.head()"
     ],
     "language": "python",
     "metadata": {
      "slideshow": {
       "slide_type": "fragment"
      }
     },
     "outputs": [
      {
       "html": [
        "<div style=\"max-height:1000px;max-width:1500px;overflow:auto;\">\n",
        "<table border=\"1\" class=\"dataframe\">\n",
        "  <thead>\n",
        "    <tr style=\"text-align: right;\">\n",
        "      <th></th>\n",
        "      <th>AMD</th>\n",
        "      <th>CERN</th>\n",
        "      <th>COST</th>\n",
        "      <th>DELL</th>\n",
        "      <th>GPS</th>\n",
        "      <th>INTC</th>\n",
        "      <th>MMM</th>\n",
        "    </tr>\n",
        "    <tr>\n",
        "      <th>Date</th>\n",
        "      <th></th>\n",
        "      <th></th>\n",
        "      <th></th>\n",
        "      <th></th>\n",
        "      <th></th>\n",
        "      <th></th>\n",
        "      <th></th>\n",
        "    </tr>\n",
        "  </thead>\n",
        "  <tbody>\n",
        "    <tr>\n",
        "      <td><strong>2001-08-01 00:00:00+00:00</strong></td>\n",
        "      <td> 18.90</td>\n",
        "      <td> 13.51</td>\n",
        "      <td> 35.70</td>\n",
        "      <td> 26.75</td>\n",
        "      <td> 23.42</td>\n",
        "      <td> 24.23</td>\n",
        "      <td> 41.88</td>\n",
        "    </tr>\n",
        "    <tr>\n",
        "      <td><strong>2001-08-02 00:00:00+00:00</strong></td>\n",
        "      <td> 19.76</td>\n",
        "      <td> 13.47</td>\n",
        "      <td> 36.67</td>\n",
        "      <td> 27.98</td>\n",
        "      <td> 23.55</td>\n",
        "      <td> 25.30</td>\n",
        "      <td> 41.99</td>\n",
        "    </tr>\n",
        "    <tr>\n",
        "      <td><strong>2001-08-03 00:00:00+00:00</strong></td>\n",
        "      <td> 19.25</td>\n",
        "      <td> 13.44</td>\n",
        "      <td> 36.35</td>\n",
        "      <td> 27.63</td>\n",
        "      <td> 23.25</td>\n",
        "      <td> 24.97</td>\n",
        "      <td> 42.16</td>\n",
        "    </tr>\n",
        "    <tr>\n",
        "      <td><strong>2001-08-06 00:00:00+00:00</strong></td>\n",
        "      <td> 17.62</td>\n",
        "      <td> 13.88</td>\n",
        "      <td> 35.18</td>\n",
        "      <td> 27.40</td>\n",
        "      <td> 23.03</td>\n",
        "      <td> 23.87</td>\n",
        "      <td> 41.27</td>\n",
        "    </tr>\n",
        "    <tr>\n",
        "      <td><strong>2001-08-07 00:00:00+00:00</strong></td>\n",
        "      <td> 17.55</td>\n",
        "      <td> 13.92</td>\n",
        "      <td> 35.63</td>\n",
        "      <td> 27.27</td>\n",
        "      <td> 23.03</td>\n",
        "      <td> 24.14</td>\n",
        "      <td> 41.83</td>\n",
        "    </tr>\n",
        "  </tbody>\n",
        "</table>\n",
        "</div>"
       ],
       "output_type": "pyout",
       "prompt_number": 6,
       "text": [
        "                             AMD   CERN   COST   DELL    GPS   INTC    MMM\n",
        "Date                                                                      \n",
        "2001-08-01 00:00:00+00:00  18.90  13.51  35.70  26.75  23.42  24.23  41.88\n",
        "2001-08-02 00:00:00+00:00  19.76  13.47  36.67  27.98  23.55  25.30  41.99\n",
        "2001-08-03 00:00:00+00:00  19.25  13.44  36.35  27.63  23.25  24.97  42.16\n",
        "2001-08-06 00:00:00+00:00  17.62  13.88  35.18  27.40  23.03  23.87  41.27\n",
        "2001-08-07 00:00:00+00:00  17.55  13.92  35.63  27.27  23.03  24.14  41.83"
       ]
      }
     ],
     "prompt_number": 6
    },
    {
     "cell_type": "heading",
     "level": 2,
     "metadata": {
      "slideshow": {
       "slide_type": "slide"
      }
     },
     "source": [
      "Let's see how it performs..."
     ]
    },
    {
     "cell_type": "code",
     "collapsed": false,
     "input": [
      "def run_olmar(eps=1, window_length=5):\n",
      "    olmar = OLMAR(eps=eps, window_length=window_length)\n",
      "    results = olmar.run(data)\n",
      "    return results.portfolio_value"
     ],
     "language": "python",
     "metadata": {
      "slideshow": {
       "slide_type": "-"
      }
     },
     "outputs": [],
     "prompt_number": 4
    },
    {
     "cell_type": "code",
     "collapsed": false,
     "input": [
      "results_eps2 = run_olmar(eps=2)"
     ],
     "language": "python",
     "metadata": {
      "slideshow": {
       "slide_type": "fragment"
      }
     },
     "outputs": [
      {
       "output_type": "stream",
       "stream": "stdout",
       "text": [
        "[2013-03-07 22:11] INFO: Transform: Running StatefulTransform [mavg]\n"
       ]
      },
      {
       "output_type": "stream",
       "stream": "stdout",
       "text": [
        "[2013-03-07 22:12] INFO: Transform: Finished StatefulTransform [mavg]\n"
       ]
      },
      {
       "output_type": "stream",
       "stream": "stdout",
       "text": [
        "[2013-03-07 22:12] INFO: Performance: Simulated 2893 trading days out of 2893.\n"
       ]
      },
      {
       "output_type": "stream",
       "stream": "stdout",
       "text": [
        "[2013-03-07 22:12] INFO: Performance: first open: 2001-08-01 13:30:00+00:00\n"
       ]
      },
      {
       "output_type": "stream",
       "stream": "stdout",
       "text": [
        "[2013-03-07 22:12] INFO: Performance: last close: 2013-02-01 21:00:00+00:00\n"
       ]
      }
     ],
     "prompt_number": 12
    },
    {
     "cell_type": "code",
     "collapsed": false,
     "input": [
      "results_eps2.plot()"
     ],
     "language": "python",
     "metadata": {
      "slideshow": {
       "slide_type": "fragment"
      }
     },
     "outputs": [
      {
       "output_type": "pyout",
       "prompt_number": 14,
       "text": [
        "<matplotlib.axes.AxesSubplot at 0xba48b8c>"
       ]
      },
      {
       "output_type": "display_data",
       "png": "[encoded data removed]"
      }
     ],
     "prompt_number": 14
    },
    {
     "cell_type": "heading",
     "level": 2,
     "metadata": {
      "slideshow": {
       "slide_type": "slide"
      }
     },
     "source": [
      "Can we do better?"
     ]
    },
    {
     "cell_type": "code",
     "collapsed": false,
     "input": [
      "results_eps1 = run_olmar(eps=1)"
     ],
     "language": "python",
     "metadata": {
      "slideshow": {
       "slide_type": "fragment"
      }
     },
     "outputs": [
      {
       "output_type": "stream",
       "stream": "stdout",
       "text": [
        "[2013-03-07 22:44] INFO: Transform: Running StatefulTransform [mavg]\n"
       ]
      },
      {
       "output_type": "stream",
       "stream": "stdout",
       "text": [
        "[2013-03-07 22:45] INFO: Transform: Finished StatefulTransform [mavg]\n"
       ]
      },
      {
       "output_type": "stream",
       "stream": "stdout",
       "text": [
        "[2013-03-07 22:45] INFO: Performance: Simulated 2893 trading days out of 2893.\n"
       ]
      },
      {
       "output_type": "stream",
       "stream": "stdout",
       "text": [
        "[2013-03-07 22:45] INFO: Performance: first open: 2001-08-01 13:30:00+00:00\n"
       ]
      },
      {
       "output_type": "stream",
       "stream": "stdout",
       "text": [
        "[2013-03-07 22:45] INFO: Performance: last close: 2013-02-01 21:00:00+00:00\n"
       ]
      }
     ],
     "prompt_number": 25
    },
    {
     "cell_type": "code",
     "collapsed": false,
     "input": [
      "results_eps2.plot()\n",
      "results_eps1.plot(c='g')"
     ],
     "language": "python",
     "metadata": {
      "slideshow": {
       "slide_type": "fragment"
      }
     },
     "outputs": [
      {
       "output_type": "pyout",
       "prompt_number": 26,
       "text": [
        "<matplotlib.axes.AxesSubplot at 0xd6b49cc>"
       ]
      },
      {
       "output_type": "display_data",
       "png": "[encoded data removed]"
      }
     ],
     "prompt_number": 26
    },
    {
     "cell_type": "markdown",
     "metadata": {
      "slideshow": {
       "slide_type": "slide"
      }
     },
     "source": [
      "Parameter Optimization\n",
      "----------------------\n",
      "\n",
      "Find parameter values `eps` and `window_length` that maximize *objective function* (i.e. cumulative wealth)."
     ]
    },
    {
     "cell_type": "markdown",
     "metadata": {
      "slideshow": {
       "slide_type": "fragment"
      }
     },
     "source": [
      "A solved problem?\n",
      "-----------------\n",
      "\n",
      "Lots of optimization algorithms exist, for example:\n",
      "\n",
      "* Hill climbing / Gradient ascent\n",
      "* Convex optimization"
     ]
    },
    {
     "cell_type": "markdown",
     "metadata": {
      "slideshow": {
       "slide_type": "slide"
      }
     },
     "source": [
      "Requirements and Properties:\n",
      "----------------------------\n",
      "\n",
      "* Continuous, differentiable.\n",
      "* Convex\n",
      "* Serial"
     ]
    },
    {
     "cell_type": "markdown",
     "metadata": {
      "slideshow": {
       "slide_type": "fragment"
      }
     },
     "source": [
      "Our objective function:\n",
      "-----------------------\n",
      "\n",
      "* Might be discontinuous, `window_length` is discrete.\n",
      "* Might be multi-modal.\n",
      "* Slow to compute -> need parallelism."
     ]
    },
    {
     "cell_type": "heading",
     "level": 2,
     "metadata": {
      "slideshow": {
       "slide_type": "slide"
      }
     },
     "source": [
      "This is a more general problem, referred to as hyper-parameter optimization."
     ]
    },
    {
     "cell_type": "heading",
     "level": 2,
     "metadata": {
      "slideshow": {
       "slide_type": "slide"
      }
     },
     "source": [
      "Support Vector Machine"
     ]
    },
    {
     "cell_type": "markdown",
     "metadata": {
      "slideshow": {
       "slide_type": "-"
      }
     },
     "source": [
      "* Parameters: \n",
      "    * Normal-vector of hyperplane $\\leftarrow$ Convex"
     ]
    },
    {
     "cell_type": "markdown",
     "metadata": {
      "slideshow": {
       "slide_type": "fragment"
      }
     },
     "source": [
      "* Hyper-parameters: \n",
      "    * Soft margin parameter `C`.\n",
      "    * Kernel-type (RBF, polynomial) and associated parameter."
     ]
    },
    {
     "cell_type": "markdown",
     "metadata": {
      "slideshow": {
       "slide_type": "fragment"
      }
     },
     "source": [
      "<img width=40% height=40% src='http://i.imgur.com/o38uyvS.png'/>\n",
      "\n",
      "See [Olivier Grisel's talk](https://speakerdeck.com/ogrisel/parallel-machine-learning-in-python)"
     ]
    },
    {
     "cell_type": "markdown",
     "metadata": {
      "slideshow": {
       "slide_type": "slide"
      }
     },
     "source": [
      "Computational Neuroscience\n",
      "--------------------------\n",
      "\n",
      "* Parameters:\n",
      "    * Weights $\\leftarrow$ Continuous.\n",
      "* Hyper-parameters:\n",
      "    * Network architecture (number of hidden units and layers)\n",
      "\n",
      "![](http://ars.els-cdn.com/content/image/1-s2.0-S0893608008001287-gr4.jpg)"
     ]
    },
    {
     "cell_type": "markdown",
     "metadata": {
      "slideshow": {
       "slide_type": "slide"
      }
     },
     "source": [
      "Algorithmic Trading\n",
      "-------------------\n",
      "\n",
      "* Parameter:\n",
      "    * Portfolio-allocation.\n",
      "* Hyperparameters:\n",
      "    * `eps` and `window_length`."
     ]
    },
    {
     "cell_type": "markdown",
     "metadata": {
      "slideshow": {
       "slide_type": "slide"
      }
     },
     "source": [
      "The problem thus far\n",
      "====================\n",
      "\n",
      "* Large-scale models.\n",
      "* Expensive to compute.\n",
      "* No knowledge how objective function changes w.r.t. hyper-parameters."
     ]
    },
    {
     "cell_type": "markdown",
     "metadata": {
      "slideshow": {
       "slide_type": "fragment"
      }
     },
     "source": [
      "Required\n",
      "--------\n",
      "\n",
      "* Parallelism\n",
      "* Global methods (not gradient-descent)\n",
      "    * Grid-search\n",
      "    * Bayesian Optimization"
     ]
    },
    {
     "cell_type": "heading",
     "level": 1,
     "metadata": {
      "slideshow": {
       "slide_type": "slide"
      }
     },
     "source": [
      "Parallel Computing in Python"
     ]
    },
    {
     "cell_type": "markdown",
     "metadata": {
      "slideshow": {
       "slide_type": "slide"
      }
     },
     "source": [
      "[IPython Parallel](http://ipython.org/ipython-doc/dev/parallel/)\n",
      "----------------\n",
      "\n",
      "![](http://ipython.org/_static/IPy_header.png)\n",
      "\n",
      "* Multi-CPU, multi-host\n",
      "* Works with various backends (MPI, SSH)"
     ]
    },
    {
     "cell_type": "heading",
     "level": 3,
     "metadata": {
      "slideshow": {
       "slide_type": "slide"
      }
     },
     "source": [
      "Launch IPython cluster."
     ]
    },
    {
     "cell_type": "markdown",
     "metadata": {
      "slideshow": {
       "slide_type": "fragment"
      }
     },
     "source": [
      "* command line: ipcluster\n",
      "* IPython notebook"
     ]
    },
    {
     "cell_type": "heading",
     "level": 3,
     "metadata": {
      "slideshow": {
       "slide_type": "fragment"
      }
     },
     "source": [
      "Connect to master"
     ]
    },
    {
     "cell_type": "code",
     "collapsed": false,
     "input": [
      "from IPython.parallel import Client\n",
      "client = Client()\n",
      "queue = client.direct_view()\n",
      "print \"Available workers: \", len(queue)"
     ],
     "language": "python",
     "metadata": {
      "slideshow": {
       "slide_type": "fragment"
      }
     },
     "outputs": [
      {
       "output_type": "stream",
       "stream": "stdout",
       "text": [
        "Available workers:  2\n"
       ]
      }
     ],
     "prompt_number": 9
    },
    {
     "cell_type": "code",
     "collapsed": false,
     "input": [
      "squared = queue.map_sync(lambda x: x**2, [1, 2, 3, 4])\n",
      "print squared"
     ],
     "language": "python",
     "metadata": {
      "slideshow": {
       "slide_type": "fragment"
      }
     },
     "outputs": [
      {
       "output_type": "stream",
       "stream": "stdout",
       "text": [
        "[1, 4, 9, 16]\n"
       ]
      }
     ],
     "prompt_number": 10
    },
    {
     "cell_type": "markdown",
     "metadata": {
      "slideshow": {
       "slide_type": "slide"
      }
     },
     "source": [
      "`%%px` magic allows execution of cell on all nodes"
     ]
    },
    {
     "cell_type": "code",
     "collapsed": false,
     "input": [
      "%%px\n",
      "import numpy as np\n",
      "print np.linspace(0, 1, 5)"
     ],
     "language": "python",
     "metadata": {},
     "outputs": [
      {
       "output_type": "stream",
       "stream": "stdout",
       "text": [
        "[stdout:0] [ 0.    0.25  0.5   0.75  1.  ]\n",
        "[stdout:1] [ 0.    0.25  0.5   0.75  1.  ]\n"
       ]
      }
     ],
     "prompt_number": 3
    },
    {
     "cell_type": "markdown",
     "metadata": {
      "slideshow": {
       "slide_type": "slide"
      }
     },
     "source": [
      "Great -- can run models in parallel on my laptop!\n",
      "=================================================\n",
      "\n",
      "<img src='http://whoseblogislitanyway.files.wordpress.com/2012/06/briefcase.jpg'/>"
     ]
    },
    {
     "cell_type": "markdown",
     "metadata": {
      "slideshow": {
       "slide_type": "slide"
      }
     },
     "source": [
      "<img src='http://star.mit.edu/cluster/docs/latest/_static/logo-small.png'/>\n",
      "\n",
      "<img src='http://star.mit.edu/cluster/docs/latest/_images/scoverview.png'/>\n",
      "\n",
      "[StarCluster homepage](http://star.mit.edu/cluster/)"
     ]
    },
    {
     "cell_type": "code",
     "collapsed": false,
     "input": [
      "!cat ~/.starcluster/config_pydata"
     ],
     "language": "python",
     "metadata": {
      "slideshow": {
       "slide_type": "slide"
      }
     },
     "outputs": [
      {
       "output_type": "stream",
       "stream": "stdout",
       "text": [
        "[global]\r\n",
        "INCLUDE=~/.starcluster/aws, ~/.starcluster/keys\r\n",
        "DEFAULT_TEMPLATE=pydata\r\n",
        "\r\n",
        "[cluster pydata]\r\n",
        "KEYNAME = mykey\r\n",
        "CLUSTER_SIZE = 20\r\n",
        "NODE_INSTANCE_TYPE = c1.xlarge\r\n",
        "NODE_IMAGE_ID = ami-8e38a4e7 # zipline specific\r\n",
        "PLUGINS = ipcluster\r\n",
        "\r\n",
        "[plugin ipcluster]\r\n",
        "SETUP_CLASS = starcluster.plugins.ipcluster.IPCluster\r\n"
       ]
      }
     ],
     "prompt_number": 5
    },
    {
     "cell_type": "code",
     "collapsed": false,
     "input": [
      "import time"
     ],
     "language": "python",
     "metadata": {
      "slideshow": {
       "slide_type": "skip"
      }
     },
     "outputs": [],
     "prompt_number": 2
    },
    {
     "cell_type": "code",
     "collapsed": false,
     "input": [
      "tic = time.time()\n",
      "\n",
      "!starcluster -c ~/.starcluster/config_pydata start pydata\n",
      "\n",
      "toc = time.time()"
     ],
     "language": "python",
     "metadata": {
      "slideshow": {
       "slide_type": "slide"
      }
     },
     "outputs": [
      {
       "output_type": "stream",
       "stream": "stdout",
       "text": [
        "StarCluster - (http://star.mit.edu/cluster) (v. 0.9999)\r\n",
        "Software Tools for Academics and Researchers (STAR)\r\n",
        "Please submit bug reports to starcluster@mit.edu\r\n",
        "\r\n"
       ]
      },
      {
       "output_type": "stream",
       "stream": "stdout",
       "text": [
        ">>> Using default cluster template: pydata\r\n",
        ">>> Validating cluster template settings...\r\n"
       ]
      },
      {
       "output_type": "stream",
       "stream": "stdout",
       "text": [
        ">>> Cluster template settings are valid\r\n",
        ">>> Starting cluster...\r\n",
        ">>> Launching a 20-node cluster...\r\n"
       ]
      },
      {
       "output_type": "stream",
       "stream": "stdout",
       "text": [
        ">>> Creating security group @sc-pydata...\r\n"
       ]
      },
      {
       "output_type": "stream",
       "stream": "stdout",
       "text": [
        "Reservation:r-e5889e9f\r\n",
        ">>> Waiting for cluster to come up... (updating every 30s)\r\n"
       ]
      },
      {
       "output_type": "stream",
       "stream": "stdout",
       "text": [
        ">>> Waiting for all nodes to be in a 'running' state...\r\n"
       ]
      },
      {
       "output_type": "stream",
       "stream": "stdout",
       "text": [
        "0/20 |                                                                 |   0%  \r",
        "0/20 |                                                                 |   0%  \r"
       ]
      },
      {
       "output_type": "stream",
       "stream": "stdout",
       "text": [
        "20/20 |||||||||||||||||||||||||||||||||||||||||||||||||||||||||||||||||| 100%  \r\n",
        ">>> Waiting for SSH to come up on all nodes...\r\n"
       ]
      },
      {
       "output_type": "stream",
       "stream": "stdout",
       "text": [
        "0/20 |                                                                 |   0%  \r"
       ]
      },
      {
       "output_type": "stream",
       "stream": "stdout",
       "text": [
        "0/20 |                                                                 |   0%  \r"
       ]
      },
      {
       "output_type": "stream",
       "stream": "stdout",
       "text": [
        "0/20 |                                                                 |   0%  \r"
       ]
      },
      {
       "output_type": "stream",
       "stream": "stdout",
       "text": [
        "0/20 |                                                                 |   0%  \r"
       ]
      },
      {
       "output_type": "stream",
       "stream": "stdout",
       "text": [
        "0/20 |                                                                 |   0%  \r"
       ]
      },
      {
       "output_type": "stream",
       "stream": "stdout",
       "text": [
        "0/20 |                                                                 |   0%  \r"
       ]
      },
      {
       "output_type": "stream",
       "stream": "stdout",
       "text": [
        "0/20 |                                                                 |   0%  \r"
       ]
      },
      {
       "output_type": "stream",
       "stream": "stdout",
       "text": [
        "0/20 |                                                                 |   0%  \r"
       ]
      },
      {
       "output_type": "stream",
       "stream": "stdout",
       "text": [
        "0/20 |                                                                 |   0%  \r"
       ]
      },
      {
       "output_type": "stream",
       "stream": "stdout",
       "text": [
        "0/20 |                                                                 |   0%  \r"
       ]
      },
      {
       "output_type": "stream",
       "stream": "stdout",
       "text": [
        "0/20 |                                                                 |   0%  \r"
       ]
      },
      {
       "output_type": "stream",
       "stream": "stdout",
       "text": [
        "0/20 |                                                                 |   0%  \r"
       ]
      },
      {
       "output_type": "stream",
       "stream": "stdout",
       "text": [
        "0/20 |                                                                 |   0%  \r"
       ]
      },
      {
       "output_type": "stream",
       "stream": "stdout",
       "text": [
        "0/20 |                                                                 |   0%  \r"
       ]
      },
      {
       "output_type": "stream",
       "stream": "stdout",
       "text": [
        "0/20 |                                                                 |   0%  \r"
       ]
      },
      {
       "output_type": "stream",
       "stream": "stdout",
       "text": [
        "0/20 |                                                                 |   0%  \r"
       ]
      },
      {
       "output_type": "stream",
       "stream": "stdout",
       "text": [
        "0/20 |                                                                 |   0%  \r"
       ]
      },
      {
       "output_type": "stream",
       "stream": "stdout",
       "text": [
        "0/20 |                                                                 |   0%  \r"
       ]
      },
      {
       "output_type": "stream",
       "stream": "stdout",
       "text": [
        "0/20 |                                                                 |   0%  \r"
       ]
      },
      {
       "output_type": "stream",
       "stream": "stdout",
       "text": [
        "0/20 |                                                                 |   0%  \r"
       ]
      },
      {
       "output_type": "stream",
       "stream": "stdout",
       "text": [
        "0/20 |                                                                 |   0%  \r"
       ]
      },
      {
       "output_type": "stream",
       "stream": "stdout",
       "text": [
        "0/20 |                                                                 |   0%  \r"
       ]
      },
      {
       "output_type": "stream",
       "stream": "stdout",
       "text": [
        "0/20 |                                                                 |   0%  \r"
       ]
      },
      {
       "output_type": "stream",
       "stream": "stdout",
       "text": [
        "2/20 |\\\\\\\\\\\\                                                           |  10%  \r"
       ]
      },
      {
       "output_type": "stream",
       "stream": "stdout",
       "text": [
        "2/20 |||||||                                                           |  10%  \r"
       ]
      },
      {
       "output_type": "stream",
       "stream": "stdout",
       "text": [
        "2/20 |//////                                                           |  10%  \r"
       ]
      },
      {
       "output_type": "stream",
       "stream": "stdout",
       "text": [
        "2/20 |------                                                           |  10%  \r"
       ]
      },
      {
       "output_type": "stream",
       "stream": "stdout",
       "text": [
        "2/20 |\\\\\\\\\\\\                                                           |  10%  \r"
       ]
      },
      {
       "output_type": "stream",
       "stream": "stdout",
       "text": [
        "2/20 |||||||                                                           |  10%  \r"
       ]
      },
      {
       "output_type": "stream",
       "stream": "stdout",
       "text": [
        "2/20 |//////                                                           |  10%  \r"
       ]
      },
      {
       "output_type": "stream",
       "stream": "stdout",
       "text": [
        "2/20 |------                                                           |  10%  \r"
       ]
      },
      {
       "output_type": "stream",
       "stream": "stdout",
       "text": [
        "2/20 |\\\\\\\\\\\\                                                           |  10%  \r"
       ]
      },
      {
       "output_type": "stream",
       "stream": "stdout",
       "text": [
        "2/20 |||||||                                                           |  10%  \r"
       ]
      },
      {
       "output_type": "stream",
       "stream": "stdout",
       "text": [
        "2/20 |//////                                                           |  10%  \r"
       ]
      },
      {
       "output_type": "stream",
       "stream": "stdout",
       "text": [
        "5/20 |----------------                                                 |  25%  \r"
       ]
      },
      {
       "output_type": "stream",
       "stream": "stdout",
       "text": [
        "5/20 |\\\\\\\\\\\\\\\\\\\\\\\\\\\\\\\\                                                 |  25%  \r"
       ]
      },
      {
       "output_type": "stream",
       "stream": "stdout",
       "text": [
        "9/20 ||||||||||||||||||||||||||||||                                    |  45%  \r"
       ]
      },
      {
       "output_type": "stream",
       "stream": "stdout",
       "text": [
        "11/20 |///////////////////////////////////                             |  55%  \r"
       ]
      },
      {
       "output_type": "stream",
       "stream": "stdout",
       "text": [
        "11/20 |-----------------------------------                             |  55%  \r"
       ]
      },
      {
       "output_type": "stream",
       "stream": "stdout",
       "text": [
        "15/20 |\\\\\\\\\\\\\\\\\\\\\\\\\\\\\\\\\\\\\\\\\\\\\\\\\\\\\\\\\\\\\\\\\\\\\\\\\\\\\\\\\\\\\\\\\\\\\\\\                |  75%  \r"
       ]
      },
      {
       "output_type": "stream",
       "stream": "stdout",
       "text": [
        "15/20 |||||||||||||||||||||||||||||||||||||||||||||||||                |  75%  \r"
       ]
      },
      {
       "output_type": "stream",
       "stream": "stdout",
       "text": [
        "15/20 |////////////////////////////////////////////////                |  75%  \r"
       ]
      },
      {
       "output_type": "stream",
       "stream": "stdout",
       "text": [
        "15/20 |------------------------------------------------                |  75%  \r"
       ]
      },
      {
       "output_type": "stream",
       "stream": "stdout",
       "text": [
        "15/20 |\\\\\\\\\\\\\\\\\\\\\\\\\\\\\\\\\\\\\\\\\\\\\\\\\\\\\\\\\\\\\\\\\\\\\\\\\\\\\\\\\\\\\\\\\\\\\\\\                |  75%  \r"
       ]
      },
      {
       "output_type": "stream",
       "stream": "stdout",
       "text": [
        "15/20 |||||||||||||||||||||||||||||||||||||||||||||||||                |  75%  \r"
       ]
      },
      {
       "output_type": "stream",
       "stream": "stdout",
       "text": [
        "15/20 |////////////////////////////////////////////////                |  75%  \r"
       ]
      },
      {
       "output_type": "stream",
       "stream": "stdout",
       "text": [
        "15/20 |------------------------------------------------                |  75%  \r"
       ]
      },
      {
       "output_type": "stream",
       "stream": "stdout",
       "text": [
        "20/20 |||||||||||||||||||||||||||||||||||||||||||||||||||||||||||||||||| 100%  \r\n",
        ">>> Waiting for cluster to come up took 1.542 mins\r\n",
        ">>> The master node is ec2-75-101-213-6.compute-1.amazonaws.com\r\n",
        ">>> Configuring cluster...\r\n"
       ]
      },
      {
       "output_type": "stream",
       "stream": "stdout",
       "text": [
        ">>> Running plugin starcluster.clustersetup.DefaultClusterSetup\r\n",
        ">>> Configuring hostnames...\r\n"
       ]
      },
      {
       "output_type": "stream",
       "stream": "stdout",
       "text": [
        "0/20 |                                                                 |   0%  \r"
       ]
      },
      {
       "output_type": "stream",
       "stream": "stdout",
       "text": [
        "6/20 |///////////////////                                              |  30%  \r"
       ]
      },
      {
       "output_type": "stream",
       "stream": "stdout",
       "text": [
        "20/20 |||||||||||||||||||||||||||||||||||||||||||||||||||||||||||||||||| 100%  \r\n"
       ]
      },
      {
       "output_type": "stream",
       "stream": "stdout",
       "text": [
        ">>> Creating cluster user: sgeadmin (uid: 1001, gid: 1001)\r\n",
        "0/20 |                                                                 |   0%  \r"
       ]
      },
      {
       "output_type": "stream",
       "stream": "stdout",
       "text": [
        "20/20 |||||||||||||||||||||||||||||||||||||||||||||||||||||||||||||||||| 100%  \r\n",
        ">>> Configuring scratch space for user(s): sgeadmin\r\n",
        "0/20 |                                                                 |   0%  \r"
       ]
      },
      {
       "output_type": "stream",
       "stream": "stdout",
       "text": [
        "18/20 ||||||||||||||||||||||||||||||||||||||||||||||||||||||||||       |  90%  \r"
       ]
      },
      {
       "output_type": "stream",
       "stream": "stdout",
       "text": [
        "20/20 |||||||||||||||||||||||||||||||||||||||||||||||||||||||||||||||||| 100%  \r\n",
        ">>> Configuring /etc/hosts on each node\r\n",
        "0/20 |                                                                 |   0%  \r"
       ]
      },
      {
       "output_type": "stream",
       "stream": "stdout",
       "text": [
        "0/20 |                                                                 |   0%  \r"
       ]
      },
      {
       "output_type": "stream",
       "stream": "stdout",
       "text": [
        "0/20 |                                                                 |   0%  \r"
       ]
      },
      {
       "output_type": "stream",
       "stream": "stdout",
       "text": [
        "0/20 |                                                                 |   0%  \r"
       ]
      },
      {
       "output_type": "stream",
       "stream": "stdout",
       "text": [
        "15/20 |////////////////////////////////////////////////                |  75%  \r"
       ]
      },
      {
       "output_type": "stream",
       "stream": "stdout",
       "text": [
        "20/20 |||||||||||||||||||||||||||||||||||||||||||||||||||||||||||||||||| 100%  \r\n",
        ">>> Starting NFS server on master\r\n"
       ]
      },
      {
       "output_type": "stream",
       "stream": "stdout",
       "text": [
        ">>> Configuring NFS exports path(s):\r\n",
        "/home\r\n"
       ]
      },
      {
       "output_type": "stream",
       "stream": "stdout",
       "text": [
        ">>> Mounting all NFS export path(s) on 19 worker node(s)\r\n"
       ]
      },
      {
       "output_type": "stream",
       "stream": "stdout",
       "text": [
        "0/19 |                                                                 |   0%  \r"
       ]
      },
      {
       "output_type": "stream",
       "stream": "stdout",
       "text": [
        "0/19 |                                                                 |   0%  \r"
       ]
      },
      {
       "output_type": "stream",
       "stream": "stdout",
       "text": [
        "0/19 |                                                                 |   0%  \r"
       ]
      },
      {
       "output_type": "stream",
       "stream": "stdout",
       "text": [
        "19/19 |||||||||||||||||||||||||||||||||||||||||||||||||||||||||||||||||| 100%  \r\n",
        ">>> Setting up NFS took 0.078 mins\r\n",
        ">>> Configuring passwordless ssh for root\r\n"
       ]
      },
      {
       "output_type": "stream",
       "stream": "stdout",
       "text": [
        ">>> Configuring passwordless ssh for sgeadmin\r\n"
       ]
      },
      {
       "output_type": "stream",
       "stream": "stdout",
       "text": [
        ">>> Running plugin starcluster.plugins.sge.SGEPlugin\r\n"
       ]
      },
      {
       "output_type": "stream",
       "stream": "stdout",
       "text": [
        ">>> Configuring SGE...\r\n"
       ]
      },
      {
       "output_type": "stream",
       "stream": "stdout",
       "text": [
        ">>> Configuring NFS exports path(s):\r\n",
        "/opt/sge6\r\n"
       ]
      },
      {
       "output_type": "stream",
       "stream": "stdout",
       "text": [
        ">>> Mounting all NFS export path(s) on 19 worker node(s)\r\n"
       ]
      },
      {
       "output_type": "stream",
       "stream": "stdout",
       "text": [
        "0/19 |                                                                 |   0%  \r"
       ]
      },
      {
       "output_type": "stream",
       "stream": "stdout",
       "text": [
        "0/19 |                                                                 |   0%  \r"
       ]
      },
      {
       "output_type": "stream",
       "stream": "stdout",
       "text": [
        "0/19 |                                                                 |   0%  \r"
       ]
      },
      {
       "output_type": "stream",
       "stream": "stdout",
       "text": [
        "0/19 |                                                                 |   0%  \r"
       ]
      },
      {
       "output_type": "stream",
       "stream": "stdout",
       "text": [
        "19/19 |||||||||||||||||||||||||||||||||||||||||||||||||||||||||||||||||| 100%  \r\n",
        ">>> Setting up NFS took 0.090 mins\r\n"
       ]
      },
      {
       "output_type": "stream",
       "stream": "stdout",
       "text": [
        ">>> Installing Sun Grid Engine...\r\n"
       ]
      },
      {
       "output_type": "stream",
       "stream": "stdout",
       "text": [
        "0/19 |                                                                 |   0%  \r"
       ]
      },
      {
       "output_type": "stream",
       "stream": "stdout",
       "text": [
        "0/19 |                                                                 |   0%  \r"
       ]
      },
      {
       "output_type": "stream",
       "stream": "stdout",
       "text": [
        "2/19 |------                                                           |  10%  \r"
       ]
      },
      {
       "output_type": "stream",
       "stream": "stdout",
       "text": [
        "4/19 |\\\\\\\\\\\\\\\\\\\\\\\\\\                                                    |  21%  \r"
       ]
      },
      {
       "output_type": "stream",
       "stream": "stdout",
       "text": [
        "6/19 |||||||||||||||||||||                                             |  31%  \r"
       ]
      },
      {
       "output_type": "stream",
       "stream": "stdout",
       "text": [
        "8/19 |///////////////////////////                                      |  42%  \r"
       ]
      },
      {
       "output_type": "stream",
       "stream": "stdout",
       "text": [
        "8/19 |---------------------------                                      |  42%  \r"
       ]
      },
      {
       "output_type": "stream",
       "stream": "stdout",
       "text": [
        "12/19 |\\\\\\\\\\\\\\\\\\\\\\\\\\\\\\\\\\\\\\\\\\\\\\\\\\\\\\\\\\\\\\\\\\\\\\\\\\\\\\\\                        |  63%  \r"
       ]
      },
      {
       "output_type": "stream",
       "stream": "stdout",
       "text": [
        "18/19 |||||||||||||||||||||||||||||||||||||||||||||||||||||||||||||    |  94%  \r"
       ]
      },
      {
       "output_type": "stream",
       "stream": "stdout",
       "text": [
        "19/19 |||||||||||||||||||||||||||||||||||||||||||||||||||||||||||||||||| 100%  \r\n"
       ]
      },
      {
       "output_type": "stream",
       "stream": "stdout",
       "text": [
        ">>> Creating SGE parallel environment 'orte'\r\n"
       ]
      },
      {
       "output_type": "stream",
       "stream": "stdout",
       "text": [
        "0/20 |                                                                 |   0%  \r"
       ]
      },
      {
       "output_type": "stream",
       "stream": "stdout",
       "text": [
        "20/20 |||||||||||||||||||||||||||||||||||||||||||||||||||||||||||||||||| 100%  \r\n"
       ]
      },
      {
       "output_type": "stream",
       "stream": "stdout",
       "text": [
        ">>> Adding parallel environment 'orte' to queue 'all.q'\r\n"
       ]
      },
      {
       "output_type": "stream",
       "stream": "stdout",
       "text": [
        ">>> Running plugin ipcluster\r\n"
       ]
      },
      {
       "output_type": "stream",
       "stream": "stdout",
       "text": [
        ">>> Writing IPython cluster config files\r\n"
       ]
      },
      {
       "output_type": "stream",
       "stream": "stdout",
       "text": [
        ">>> Starting the IPython controller and 7 engines on master\r\n"
       ]
      },
      {
       "output_type": "stream",
       "stream": "stdout",
       "text": [
        ">>> Waiting for JSON connector file... \b \b|"
       ]
      },
      {
       "output_type": "stream",
       "stream": "stdout",
       "text": [
        "\b \b/"
       ]
      },
      {
       "output_type": "stream",
       "stream": "stdout",
       "text": [
        "\b \b\r\n"
       ]
      },
      {
       "output_type": "stream",
       "stream": "stdout",
       "text": [
        "/home/whyking/.starcluster/ipcluster/SecurityGroup:@sc-pydata-us-east-1.json 100% || Time: 00:00:00  87.61 M/s\r\n"
       ]
      },
      {
       "output_type": "stream",
       "stream": "stdout",
       "text": [
        ">>> Authorizing tcp ports [1000-65535] on 0.0.0.0/0 for: IPython controller\r\n"
       ]
      },
      {
       "output_type": "stream",
       "stream": "stdout",
       "text": [
        ">>> Adding 152 engines on 19 nodes\r\n",
        "0/19 |                                                                 |   0%  \r"
       ]
      },
      {
       "output_type": "stream",
       "stream": "stdout",
       "text": [
        "0/19 |                                                                 |   0%  \r"
       ]
      },
      {
       "output_type": "stream",
       "stream": "stdout",
       "text": [
        "0/19 |                                                                 |   0%  \r"
       ]
      },
      {
       "output_type": "stream",
       "stream": "stdout",
       "text": [
        "0/19 |                                                                 |   0%  \r"
       ]
      },
      {
       "output_type": "stream",
       "stream": "stdout",
       "text": [
        "0/19 |                                                                 |   0%  \r"
       ]
      },
      {
       "output_type": "stream",
       "stream": "stdout",
       "text": [
        "0/19 |                                                                 |   0%  \r"
       ]
      },
      {
       "output_type": "stream",
       "stream": "stdout",
       "text": [
        "0/19 |                                                                 |   0%  \r"
       ]
      },
      {
       "output_type": "stream",
       "stream": "stdout",
       "text": [
        "0/19 |                                                                 |   0%  \r"
       ]
      },
      {
       "output_type": "stream",
       "stream": "stdout",
       "text": [
        "0/19 |                                                                 |   0%  \r"
       ]
      },
      {
       "output_type": "stream",
       "stream": "stdout",
       "text": [
        "0/19 |                                                                 |   0%  \r"
       ]
      },
      {
       "output_type": "stream",
       "stream": "stdout",
       "text": [
        "0/19 |                                                                 |   0%  \r"
       ]
      },
      {
       "output_type": "stream",
       "stream": "stdout",
       "text": [
        "0/19 |                                                                 |   0%  \r"
       ]
      },
      {
       "output_type": "stream",
       "stream": "stdout",
       "text": [
        "0/19 |                                                                 |   0%  \r"
       ]
      },
      {
       "output_type": "stream",
       "stream": "stdout",
       "text": [
        "9/19 |//////////////////////////////                                   |  47%  \r"
       ]
      },
      {
       "output_type": "stream",
       "stream": "stdout",
       "text": [
        "16/19 |-----------------------------------------------------           |  84%  \r"
       ]
      },
      {
       "output_type": "stream",
       "stream": "stdout",
       "text": [
        "16/19 |\\\\\\\\\\\\\\\\\\\\\\\\\\\\\\\\\\\\\\\\\\\\\\\\\\\\\\\\\\\\\\\\\\\\\\\\\\\\\\\\\\\\\\\\\\\\\\\\\\\\\\\\\\           |  84%  \r"
       ]
      },
      {
       "output_type": "stream",
       "stream": "stdout",
       "text": [
        "17/19 ||||||||||||||||||||||||||||||||||||||||||||||||||||||||||       |  89%  \r"
       ]
      },
      {
       "output_type": "stream",
       "stream": "stdout",
       "text": [
        "18/19 |////////////////////////////////////////////////////////////    |  94%  \r"
       ]
      },
      {
       "output_type": "stream",
       "stream": "stdout",
       "text": [
        "19/19 |||||||||||||||||||||||||||||||||||||||||||||||||||||||||||||||||| 100%  \r\n",
        ">>> IPCluster has been started on SecurityGroup:@sc-pydata for user 'sgeadmin'\r\n",
        "with 159 engines on 20 nodes.\r\n",
        "\r\n",
        "To connect to cluster from your local machine use:\r\n",
        "\r\n",
        "from IPython.parallel import Client\r\n",
        "client = Client('/home/whyking/.starcluster/ipcluster/SecurityGroup:@sc-pydata-us-east-1.json', sshkey='/home/whyking/.ssh/mykey.rsa')\r\n",
        "\r\n",
        "See the IPCluster plugin doc for usage details:\r\n",
        "http://star.mit.edu/cluster/docs/latest/plugins/ipython.html\r\n",
        "\r\n"
       ]
      },
      {
       "output_type": "stream",
       "stream": "stdout",
       "text": [
        ">>> IPCluster took 0.632 mins\r\n",
        ">>> Configuring cluster took 2.485 mins\r\n",
        ">>> Starting cluster took 4.077 mins\r\n",
        "\r\n",
        "The cluster is now ready to use. To login to the master node\r\n",
        "as root, run:\r\n",
        "\r\n",
        "    $ starcluster sshmaster pydata\r\n",
        "\r\n",
        "If you're having issues with the cluster you can reboot the\r\n",
        "instances and completely reconfigure the cluster from\r\n",
        "scratch using:\r\n",
        "\r\n",
        "    $ starcluster restart pydata\r\n",
        "\r\n",
        "When you're finished using the cluster and wish to terminate\r\n",
        "it and stop paying for service:\r\n",
        "\r\n",
        "    $ starcluster terminate pydata\r\n",
        "\r\n",
        "Alternatively, if the cluster uses EBS instances, you can\r\n",
        "use the 'stop' command to shutdown all nodes and put them\r\n",
        "into a 'stopped' state preserving the EBS volumes backing\r\n",
        "the nodes:\r\n",
        "\r\n",
        "    $ starcluster stop pydata\r\n",
        "\r\n",
        "WARNING: Any data stored in ephemeral storage (usually /mnt)\r\n",
        "will be lost!\r\n",
        "\r\n",
        "You can activate a 'stopped' cluster by passing the -x\r\n",
        "option to the 'start' command:\r\n",
        "\r\n",
        "    $ starcluster start -x pydata\r\n",
        "\r\n",
        "This will start all 'stopped' nodes and reconfigure the\r\n",
        "cluster.\r\n"
       ]
      }
     ],
     "prompt_number": 4
    },
    {
     "cell_type": "code",
     "collapsed": false,
     "input": [
      "print \"Took secs:\", toc-tic"
     ],
     "language": "python",
     "metadata": {
      "slideshow": {
       "slide_type": "slide"
      }
     },
     "outputs": [
      {
       "output_type": "stream",
       "stream": "stdout",
       "text": [
        "Took secs:"
       ]
      },
      {
       "output_type": "stream",
       "stream": "stdout",
       "text": [
        " 246.641336918\n"
       ]
      }
     ],
     "prompt_number": 6
    },
    {
     "cell_type": "code",
     "collapsed": false,
     "input": [
      "from IPython.parallel import Client\n",
      "client_sc = Client('/home/whyking/.starcluster/ipcluster/SecurityGroup:@sc-pydata-us-east-1.json', sshkey='/home/whyking/.ssh/mykey.rsa')"
     ],
     "language": "python",
     "metadata": {
      "slideshow": {
       "slide_type": "fragment"
      }
     },
     "outputs": []
    },
    {
     "cell_type": "code",
     "collapsed": false,
     "input": [
      "queue_sc = client_sc.direct_view()\n",
      "print \"Available workers: \", len(queue_sc)"
     ],
     "language": "python",
     "metadata": {
      "slideshow": {
       "slide_type": "fragment"
      }
     },
     "outputs": [
      {
       "output_type": "stream",
       "stream": "stdout",
       "text": [
        "Available workers:  157\n"
       ]
      }
     ],
     "prompt_number": 16
    },
    {
     "cell_type": "code",
     "collapsed": false,
     "input": [
      "queue_sc.map_sync(lambda x: x**2, [1, 2, 3, 4, 5, 6])"
     ],
     "language": "python",
     "metadata": {
      "slideshow": {
       "slide_type": "fragment"
      }
     },
     "outputs": [
      {
       "output_type": "pyout",
       "prompt_number": 2,
       "text": [
        "[1, 4, 9, 16, 25, 36]"
       ]
      }
     ],
     "prompt_number": 2
    },
    {
     "cell_type": "heading",
     "level": 2,
     "metadata": {
      "slideshow": {
       "slide_type": "slide"
      }
     },
     "source": [
      "Putting it all together."
     ]
    },
    {
     "cell_type": "code",
     "collapsed": false,
     "input": [
      "%%px\n",
      "import sys\n",
      "import logbook\n",
      "zipline_logging = logbook.NestedSetup([\n",
      "    logbook.NullHandler(level=logbook.DEBUG, bubble=True),\n",
      "    logbook.StreamHandler(sys.stdout, level=logbook.INFO),\n",
      "    logbook.StreamHandler(sys.stderr, level=logbook.ERROR),\n",
      "])\n",
      "zipline_logging.push_application()\n",
      "\n",
      "import numpy as np\n",
      "import datetime\n",
      "import zipline\n",
      "from zipline.algorithm import TradingAlgorithm\n",
      "\n",
      "STOCKS = ['AMD', 'CERN', 'COST', 'DELL', 'GPS', 'INTC', 'MMM']\n",
      "\n",
      "class OLMAR(TradingAlgorithm):\n",
      "    def initialize(self, eps=1, window_length=5):\n",
      "        self.stocks = STOCKS\n",
      "        self.m = len(self.stocks)\n",
      "        self.price = {}\n",
      "        self.b_t = np.ones(self.m) / self.m\n",
      "        self.last_desired_port = np.ones(self.m) / self.m\n",
      "        self.eps = eps\n",
      "        self.init = True\n",
      "        self.days = 0\n",
      "        self.window_length = window_length\n",
      "        self.add_transform(zipline.transforms.MovingAverage, 'mavg', ['price'],\n",
      "                           window_length=window_length)\n",
      "        \n",
      "        self.set_slippage(zipline.finance.slippage.FixedSlippage())\n",
      "        self.set_commission(zipline.finance.commission.PerShare(cost=0))\n",
      "\n",
      "    def handle_data(self, data):\n",
      "        self.days += 1\n",
      "        if self.days < self.window_length:\n",
      "           return\n",
      "        \n",
      "        if self.init:\n",
      "            self.rebalance_portfolio(data, self.b_t)\n",
      "            self.init = False\n",
      "            return\n",
      "\n",
      "        m = self.m\n",
      "\n",
      "        x_tilde = np.zeros(m)\n",
      "        b = np.zeros(m)\n",
      "\n",
      "        # find relative moving average price for each security\n",
      "        for i, stock in enumerate(self.stocks):\n",
      "            price = data[stock].price\n",
      "            # Relative mean deviation\n",
      "            x_tilde[i] = data[stock]['mavg']['price'] / price\n",
      "\n",
      "        ###########################\n",
      "        # Inside of OLMAR (algo 2)\n",
      "        x_bar = x_tilde.mean()\n",
      "        \n",
      "        # market relative deviation\n",
      "        mark_rel_dev = x_tilde - x_bar\n",
      "\n",
      "        # Expected return with current portfolio\n",
      "        exp_return = np.dot(self.b_t, x_tilde)\n",
      "        weight = self.eps - exp_return\n",
      "\n",
      "        variability = (np.linalg.norm(mark_rel_dev))**2\n",
      "\n",
      "        if variability == 0.0:\n",
      "            step_size = 0 # no portolio update\n",
      "        else:\n",
      "            step_size = max(0, weight/variability)\n",
      "\n",
      "        b = self.b_t + step_size*mark_rel_dev\n",
      "        b_norm = simplex_projection(b)\n",
      "        \n",
      "        #print b_norm\n",
      "        self.rebalance_portfolio(data, b_norm)\n",
      "        \n",
      "        # Predicted return with new portfolio\n",
      "        pred_return = np.dot(b_norm, x_tilde)\n",
      "\n",
      "        # update portfolio\n",
      "        self.b_t = b_norm\n",
      "\n",
      "    def rebalance_portfolio(self, data, desired_port):\n",
      "        #rebalance portfolio\n",
      "        desired_amount = np.zeros_like(desired_port)\n",
      "        current_amount = np.zeros_like(desired_port)\n",
      "        prices = np.zeros_like(desired_port)\n",
      "        \n",
      "        if self.init:\n",
      "            positions_value = self.portfolio.starting_cash\n",
      "        else:\n",
      "            positions_value = self.portfolio.positions_value + self.portfolio.cash\n",
      "        \n",
      "        for i, stock in enumerate(self.stocks):\n",
      "            current_amount[i] = self.portfolio.positions[stock].amount\n",
      "            prices[i] = data[stock].price\n",
      "        \n",
      "        desired_amount = np.round(desired_port * positions_value / prices)\n",
      "        diff_amount = desired_amount - current_amount\n",
      "\n",
      "        for i, stock in enumerate(self.stocks):\n",
      "            self.order(stock, diff_amount[i]) #order_stock\n",
      "\n",
      "def simplex_projection(v, b=1):\n",
      "    \"\"\"Projection vectors to the simplex domain\n",
      "\n",
      "    Implemented according to the paper: Efficient projections onto the\n",
      "    l1-ball for learning in high dimensions, John Duchi, et al. ICML 2008.\n",
      "    Implementation Time: 2011 June 17 by Bin@libin AT pmail.ntu.edu.sg\n",
      "    Optimization Problem: min_{w}\\| w - v \\|_{2}^{2}\n",
      "    s.t. sum_{i=1}^{m}=z, w_{i}\\geq 0\n",
      "\n",
      "    Input: A vector v \\in R^{m}, and a scalar z > 0 (default=1)\n",
      "    Output: Projection vector w\n",
      "\n",
      "    :Example:\n",
      "    >>> proj = simplex_projection([.4 ,.3, -.4, .5])\n",
      "    >>> print proj\n",
      "    array([ 0.33333333, 0.23333333, 0. , 0.43333333])\n",
      "    >>> print proj.sum()\n",
      "    1.0\n",
      "\n",
      "    Original matlab implementation: John Duchi (jduchi@cs.berkeley.edu)\n",
      "    Python-port: Copyright 2012 by Thomas Wiecki (thomas.wiecki@gmail.com).\n",
      "    \"\"\"\n",
      "\n",
      "    v = np.asarray(v)\n",
      "    p = len(v)\n",
      "\n",
      "    # Sort v into u in descending order\n",
      "    v = (v > 0) * v\n",
      "    u = np.sort(v)[::-1]\n",
      "    sv = np.cumsum(u)\n",
      "\n",
      "    rho = np.where(u > (sv - b) / np.arange(1, p+1))[0][-1]\n",
      "    theta = np.max([0, (sv[rho] - b) / (rho+1)])\n",
      "    w = (v - theta)\n",
      "    w[w<0] = 0\n",
      "    return w\n",
      "\n",
      "start = datetime.datetime(2001, 8, 1)\n",
      "end = datetime.datetime(2013, 2, 1)\n",
      "data = zipline.utils.factory.load_from_yahoo(stocks=STOCKS, indexes={}, start=start, end=end)\n",
      "data = data.dropna()"
     ],
     "language": "python",
     "metadata": {
      "slideshow": {
       "slide_type": "skip"
      }
     },
     "outputs": [
      {
       "output_type": "stream",
       "stream": "stdout",
       "text": [
        "[stdout:0] \n",
        "AMD\n",
        "CERN\n",
        "COST\n",
        "DELL\n",
        "GPS\n",
        "INTC\n",
        "MMM\n",
        "[stdout:1] \n",
        "AMD\n",
        "CERN\n",
        "COST\n",
        "DELL\n",
        "GPS\n",
        "INTC\n",
        "MMM\n",
        "[stdout:2] \n",
        "AMD\n",
        "CERN\n",
        "COST\n",
        "DELL\n",
        "GPS\n",
        "INTC\n",
        "MMM\n",
        "[stdout:3] \n",
        "AMD\n",
        "CERN\n",
        "COST\n",
        "DELL\n",
        "GPS\n",
        "INTC\n",
        "MMM\n",
        "[stdout:4] \n",
        "AMD\n",
        "CERN\n",
        "COST\n",
        "DELL\n",
        "GPS\n",
        "INTC\n",
        "MMM\n",
        "[stdout:5] \n",
        "AMD\n",
        "CERN\n",
        "COST\n",
        "DELL\n",
        "GPS\n",
        "INTC\n",
        "MMM\n",
        "[stdout:6] \n",
        "AMD\n",
        "CERN\n",
        "COST\n",
        "DELL\n",
        "GPS\n",
        "INTC\n",
        "MMM\n",
        "[stdout:7] \n",
        "AMD\n",
        "CERN\n",
        "COST\n",
        "DELL\n",
        "GPS\n",
        "INTC\n",
        "MMM\n",
        "[stdout:8] \n",
        "AMD\n",
        "CERN\n",
        "COST\n",
        "DELL\n",
        "GPS\n",
        "INTC\n",
        "MMM\n",
        "[stdout:9] \n",
        "AMD\n",
        "CERN\n",
        "COST\n",
        "DELL\n",
        "GPS\n",
        "INTC\n",
        "MMM\n",
        "[stdout:10] \n",
        "AMD\n",
        "CERN\n",
        "COST\n",
        "DELL\n",
        "GPS\n",
        "INTC\n",
        "MMM\n",
        "[stdout:11] \n",
        "AMD\n",
        "CERN\n",
        "COST\n",
        "DELL\n",
        "GPS\n",
        "INTC\n",
        "MMM\n",
        "[stdout:12] \n",
        "AMD\n",
        "CERN\n",
        "COST\n",
        "DELL\n",
        "GPS\n",
        "INTC\n",
        "MMM\n",
        "[stdout:13] \n",
        "AMD\n",
        "CERN\n",
        "COST\n",
        "DELL\n",
        "GPS\n",
        "INTC\n",
        "MMM\n",
        "[stdout:14] \n",
        "AMD\n",
        "CERN\n",
        "COST\n",
        "DELL\n",
        "GPS\n",
        "INTC\n",
        "MMM\n",
        "[stdout:15] \n",
        "AMD\n",
        "CERN\n",
        "COST\n",
        "DELL\n",
        "GPS\n",
        "INTC\n",
        "MMM\n",
        "[stdout:16] \n",
        "AMD\n",
        "CERN\n",
        "COST\n",
        "DELL\n",
        "GPS\n",
        "INTC\n",
        "MMM\n",
        "[stdout:17] \n",
        "AMD\n",
        "CERN\n",
        "COST\n",
        "DELL\n",
        "GPS\n",
        "INTC\n",
        "MMM\n",
        "[stdout:18] \n",
        "AMD\n",
        "CERN\n",
        "COST\n",
        "DELL\n",
        "GPS\n",
        "INTC\n",
        "MMM\n",
        "[stdout:19] \n",
        "AMD\n",
        "CERN\n",
        "COST\n",
        "DELL\n",
        "GPS\n",
        "INTC\n",
        "MMM\n",
        "[stdout:20] \n",
        "AMD\n",
        "CERN\n",
        "COST\n",
        "DELL\n",
        "GPS\n",
        "INTC\n",
        "MMM\n",
        "[stdout:21] \n",
        "AMD\n",
        "CERN\n",
        "COST\n",
        "DELL\n",
        "GPS\n",
        "INTC\n",
        "MMM\n",
        "[stdout:22] \n",
        "AMD\n",
        "CERN\n",
        "COST\n",
        "DELL\n",
        "GPS\n",
        "INTC\n",
        "MMM\n",
        "[stdout:23] \n",
        "AMD\n",
        "CERN\n",
        "COST\n",
        "DELL\n",
        "GPS\n",
        "INTC\n",
        "MMM\n",
        "[stdout:24] \n",
        "AMD\n",
        "CERN\n",
        "COST\n",
        "DELL\n",
        "GPS\n",
        "INTC\n",
        "MMM\n",
        "[stdout:25] \n",
        "AMD\n",
        "CERN\n",
        "COST\n",
        "DELL\n",
        "GPS\n",
        "INTC\n",
        "MMM\n",
        "[stdout:26] \n",
        "AMD\n",
        "CERN\n",
        "COST\n",
        "DELL\n",
        "GPS\n",
        "INTC\n",
        "MMM\n",
        "[stdout:27] \n",
        "AMD\n",
        "CERN\n",
        "COST\n",
        "DELL\n",
        "GPS\n",
        "INTC\n",
        "MMM\n",
        "[stdout:28] \n",
        "AMD\n",
        "CERN\n",
        "COST\n",
        "DELL\n",
        "GPS\n",
        "INTC\n",
        "MMM\n",
        "[stdout:29] \n",
        "AMD\n",
        "CERN\n",
        "COST\n",
        "DELL\n",
        "GPS\n",
        "INTC\n",
        "MMM\n",
        "[stdout:30] \n",
        "AMD\n",
        "CERN\n",
        "COST\n",
        "DELL\n",
        "GPS\n",
        "INTC\n",
        "MMM\n",
        "[stdout:31] \n",
        "AMD\n",
        "CERN\n",
        "COST\n",
        "DELL\n",
        "GPS\n",
        "INTC\n",
        "MMM\n",
        "[stdout:32] \n",
        "AMD\n",
        "CERN\n",
        "COST\n",
        "DELL\n",
        "GPS\n",
        "INTC\n",
        "MMM\n",
        "[stdout:33] \n",
        "AMD\n",
        "CERN\n",
        "COST\n",
        "DELL\n",
        "GPS\n",
        "INTC\n",
        "MMM\n",
        "[stdout:34] \n",
        "AMD\n",
        "CERN\n",
        "COST\n",
        "DELL\n",
        "GPS\n",
        "INTC\n",
        "MMM\n",
        "[stdout:35] \n",
        "AMD\n",
        "CERN\n",
        "COST\n",
        "DELL\n",
        "GPS\n",
        "INTC\n",
        "MMM\n",
        "[stdout:36] \n",
        "AMD\n",
        "CERN\n",
        "COST\n",
        "DELL\n",
        "GPS\n",
        "INTC\n",
        "MMM\n",
        "[stdout:37] \n",
        "AMD\n",
        "CERN\n",
        "COST\n",
        "DELL\n",
        "GPS\n",
        "INTC\n",
        "MMM\n",
        "[stdout:38] \n",
        "AMD\n",
        "CERN\n",
        "COST\n",
        "DELL\n",
        "GPS\n",
        "INTC\n",
        "MMM\n",
        "[stdout:39] \n",
        "AMD\n",
        "CERN\n",
        "COST\n",
        "DELL\n",
        "GPS\n",
        "INTC\n",
        "MMM\n",
        "[stdout:40] \n",
        "AMD\n",
        "CERN\n",
        "COST\n",
        "DELL\n",
        "GPS\n",
        "INTC\n",
        "MMM\n",
        "[stdout:41] \n",
        "AMD\n",
        "CERN\n",
        "COST\n",
        "DELL\n",
        "GPS\n",
        "INTC\n",
        "MMM\n",
        "[stdout:42] \n",
        "AMD\n",
        "CERN\n",
        "COST\n",
        "DELL\n",
        "GPS\n",
        "INTC\n",
        "MMM\n",
        "[stdout:43] \n",
        "AMD\n",
        "CERN\n",
        "COST\n",
        "DELL\n",
        "GPS\n",
        "INTC\n",
        "MMM\n",
        "[stdout:44] \n",
        "AMD\n",
        "CERN\n",
        "COST\n",
        "DELL\n",
        "GPS\n",
        "INTC\n",
        "MMM\n",
        "[stdout:45] \n",
        "AMD\n",
        "CERN\n",
        "COST\n",
        "DELL\n",
        "GPS\n",
        "INTC\n",
        "MMM\n",
        "[stdout:46] \n",
        "AMD\n",
        "CERN\n",
        "COST\n",
        "DELL\n",
        "GPS\n",
        "INTC\n",
        "MMM\n",
        "[stdout:47] \n",
        "AMD\n",
        "CERN\n",
        "COST\n",
        "DELL\n",
        "GPS\n",
        "INTC\n",
        "MMM\n",
        "[stdout:48] \n",
        "AMD\n",
        "CERN\n",
        "COST\n",
        "DELL\n",
        "GPS\n",
        "INTC\n",
        "MMM\n",
        "[stdout:49] \n",
        "AMD\n",
        "CERN\n",
        "COST\n",
        "DELL\n",
        "GPS\n",
        "INTC\n",
        "MMM\n",
        "[stdout:50] \n",
        "AMD\n",
        "CERN\n",
        "COST\n",
        "DELL\n",
        "GPS\n",
        "INTC\n",
        "MMM\n",
        "[stdout:51] \n",
        "AMD\n",
        "CERN\n",
        "COST\n",
        "DELL\n",
        "GPS\n",
        "INTC\n",
        "MMM\n",
        "[stdout:52] \n",
        "AMD\n",
        "CERN\n",
        "COST\n",
        "DELL\n",
        "GPS\n",
        "INTC\n",
        "MMM\n",
        "[stdout:53] \n",
        "AMD\n",
        "CERN\n",
        "COST\n",
        "DELL\n",
        "GPS\n",
        "INTC\n",
        "MMM\n",
        "[stdout:54] \n",
        "AMD\n",
        "CERN\n",
        "COST\n",
        "DELL\n",
        "GPS\n",
        "INTC\n",
        "MMM\n",
        "[stdout:55] \n",
        "AMD\n",
        "CERN\n",
        "COST\n",
        "DELL\n",
        "GPS\n",
        "INTC\n",
        "MMM\n",
        "[stdout:56] \n",
        "AMD\n",
        "CERN\n",
        "COST\n",
        "DELL\n",
        "GPS\n",
        "INTC\n",
        "MMM\n",
        "[stdout:57] \n",
        "AMD\n",
        "CERN\n",
        "COST\n",
        "DELL\n",
        "GPS\n",
        "INTC\n",
        "MMM\n",
        "[stdout:58] \n",
        "AMD\n",
        "CERN\n",
        "COST\n",
        "DELL\n",
        "GPS\n",
        "INTC\n",
        "MMM\n",
        "[stdout:59] \n",
        "AMD\n",
        "CERN\n",
        "COST\n",
        "DELL\n",
        "GPS\n",
        "INTC\n",
        "MMM\n",
        "[stdout:60] \n",
        "AMD\n",
        "CERN\n",
        "COST\n",
        "DELL\n",
        "GPS\n",
        "INTC\n",
        "MMM\n",
        "[stdout:61] \n",
        "AMD\n",
        "CERN\n",
        "COST\n",
        "DELL\n",
        "GPS\n",
        "INTC\n",
        "MMM\n",
        "[stdout:62] \n",
        "AMD\n",
        "CERN\n",
        "COST\n",
        "DELL\n",
        "GPS\n",
        "INTC\n",
        "MMM\n",
        "[stdout:63] \n",
        "AMD\n",
        "CERN\n",
        "COST\n",
        "DELL\n",
        "GPS\n",
        "INTC\n",
        "MMM\n",
        "[stdout:64] \n",
        "AMD\n",
        "CERN\n",
        "COST\n",
        "DELL\n",
        "GPS\n",
        "INTC\n",
        "MMM\n",
        "[stdout:65] \n",
        "AMD\n",
        "CERN\n",
        "COST\n",
        "DELL\n",
        "GPS\n",
        "INTC\n",
        "MMM\n",
        "[stdout:66] \n",
        "AMD\n",
        "CERN\n",
        "COST\n",
        "DELL\n",
        "GPS\n",
        "INTC\n",
        "MMM\n",
        "[stdout:67] \n",
        "AMD\n",
        "CERN\n",
        "COST\n",
        "DELL\n",
        "GPS\n",
        "INTC\n",
        "MMM\n",
        "[stdout:68] \n",
        "AMD\n",
        "CERN\n",
        "COST\n",
        "DELL\n",
        "GPS\n",
        "INTC\n",
        "MMM\n",
        "[stdout:69] \n",
        "AMD\n",
        "CERN\n",
        "COST\n",
        "DELL\n",
        "GPS\n",
        "INTC\n",
        "MMM\n",
        "[stdout:70] \n",
        "AMD\n",
        "CERN\n",
        "COST\n",
        "DELL\n",
        "GPS\n",
        "INTC\n",
        "MMM\n",
        "[stdout:71] \n",
        "AMD\n",
        "CERN\n",
        "COST\n",
        "DELL\n",
        "GPS\n",
        "INTC\n",
        "MMM\n",
        "[stdout:72] \n",
        "AMD\n",
        "CERN\n",
        "COST\n",
        "DELL\n",
        "GPS\n",
        "INTC\n",
        "MMM\n",
        "[stdout:73] \n",
        "AMD\n",
        "CERN\n",
        "COST\n",
        "DELL\n",
        "GPS\n",
        "INTC\n",
        "MMM\n",
        "[stdout:74] \n",
        "AMD\n",
        "CERN\n",
        "COST\n",
        "DELL\n",
        "GPS\n",
        "INTC\n",
        "MMM\n",
        "[stdout:75] \n",
        "AMD\n",
        "CERN\n",
        "COST\n",
        "DELL\n",
        "GPS\n",
        "INTC\n",
        "MMM\n",
        "[stdout:76] \n",
        "AMD\n",
        "CERN\n",
        "COST\n",
        "DELL\n",
        "GPS\n",
        "INTC\n",
        "MMM\n",
        "[stdout:77] \n",
        "AMD\n",
        "CERN\n",
        "COST\n",
        "DELL\n",
        "GPS\n",
        "INTC\n",
        "MMM\n",
        "[stdout:78] \n",
        "AMD\n",
        "CERN\n",
        "COST\n",
        "DELL\n",
        "GPS\n",
        "INTC\n",
        "MMM\n",
        "[stdout:79] \n",
        "AMD\n",
        "CERN\n",
        "COST\n",
        "DELL\n",
        "GPS\n",
        "INTC\n",
        "MMM\n",
        "[stdout:80] \n",
        "AMD\n",
        "CERN\n",
        "COST\n",
        "DELL\n",
        "GPS\n",
        "INTC\n",
        "MMM\n",
        "[stdout:81] \n",
        "AMD\n",
        "CERN\n",
        "COST\n",
        "DELL\n",
        "GPS\n",
        "INTC\n",
        "MMM\n",
        "[stdout:82] \n",
        "AMD\n",
        "CERN\n",
        "COST\n",
        "DELL\n",
        "GPS\n",
        "INTC\n",
        "MMM\n",
        "[stdout:83] \n",
        "AMD\n",
        "CERN\n",
        "COST\n",
        "DELL\n",
        "GPS\n",
        "INTC\n",
        "MMM\n",
        "[stdout:84] \n",
        "AMD\n",
        "CERN\n",
        "COST\n",
        "DELL\n",
        "GPS\n",
        "INTC\n",
        "MMM\n",
        "[stdout:87] \n",
        "AMD\n",
        "CERN\n",
        "COST\n",
        "DELL\n",
        "GPS\n",
        "INTC\n",
        "MMM\n",
        "[stdout:88] \n",
        "AMD\n",
        "CERN\n",
        "COST\n",
        "DELL\n",
        "GPS\n",
        "INTC\n",
        "MMM\n",
        "[stdout:89] \n",
        "AMD\n",
        "CERN\n",
        "COST\n",
        "DELL\n",
        "GPS\n",
        "INTC\n",
        "MMM\n",
        "[stdout:90] \n",
        "AMD\n",
        "CERN\n",
        "COST\n",
        "DELL\n",
        "GPS\n",
        "INTC\n",
        "MMM\n",
        "[stdout:91] \n",
        "AMD\n",
        "CERN\n",
        "COST\n",
        "DELL\n",
        "GPS\n",
        "INTC\n",
        "MMM\n",
        "[stdout:92] \n",
        "AMD\n",
        "CERN\n",
        "COST\n",
        "DELL\n",
        "GPS\n",
        "INTC\n",
        "MMM\n",
        "[stdout:93] \n",
        "AMD\n",
        "CERN\n",
        "COST\n",
        "DELL\n",
        "GPS\n",
        "INTC\n",
        "MMM\n",
        "[stdout:94] \n",
        "AMD\n",
        "CERN\n",
        "COST\n",
        "DELL\n",
        "GPS\n",
        "INTC\n",
        "MMM\n",
        "[stdout:95] \n",
        "AMD\n",
        "CERN\n",
        "COST\n",
        "DELL\n",
        "GPS\n",
        "INTC\n",
        "MMM\n",
        "[stdout:96] \n",
        "AMD\n",
        "CERN\n",
        "COST\n",
        "DELL\n",
        "GPS\n",
        "INTC\n",
        "MMM\n",
        "[stdout:97] \n",
        "AMD\n",
        "CERN\n",
        "COST\n",
        "DELL\n",
        "GPS\n",
        "INTC\n",
        "MMM\n",
        "[stdout:98] \n",
        "AMD\n",
        "CERN\n",
        "COST\n",
        "DELL\n",
        "GPS\n",
        "INTC\n",
        "MMM\n",
        "[stdout:99] \n",
        "AMD\n",
        "CERN\n",
        "COST\n",
        "DELL\n",
        "GPS\n",
        "INTC\n",
        "MMM\n",
        "[stdout:100] \n",
        "AMD\n",
        "CERN\n",
        "COST\n",
        "DELL\n",
        "GPS\n",
        "INTC\n",
        "MMM\n",
        "[stdout:101] \n",
        "AMD\n",
        "CERN\n",
        "COST\n",
        "DELL\n",
        "GPS\n",
        "INTC\n",
        "MMM\n",
        "[stdout:102] \n",
        "AMD\n",
        "CERN\n",
        "COST\n",
        "DELL\n",
        "GPS\n",
        "INTC\n",
        "MMM\n",
        "[stdout:103] \n",
        "AMD\n",
        "CERN\n",
        "COST\n",
        "DELL\n",
        "GPS\n",
        "INTC\n",
        "MMM\n",
        "[stdout:104] \n",
        "AMD\n",
        "CERN\n",
        "COST\n",
        "DELL\n",
        "GPS\n",
        "INTC\n",
        "MMM\n",
        "[stdout:105] \n",
        "AMD\n",
        "CERN\n",
        "COST\n",
        "DELL\n",
        "GPS\n",
        "INTC\n",
        "MMM\n",
        "[stdout:106] \n",
        "AMD\n",
        "CERN\n",
        "COST\n",
        "DELL\n",
        "GPS\n",
        "INTC\n",
        "MMM\n",
        "[stdout:107] \n",
        "AMD\n",
        "CERN\n",
        "COST\n",
        "DELL\n",
        "GPS\n",
        "INTC\n",
        "MMM\n",
        "[stdout:108] \n",
        "AMD\n",
        "CERN\n",
        "COST\n",
        "DELL\n",
        "GPS\n",
        "INTC\n",
        "MMM\n",
        "[stdout:109] \n",
        "AMD\n",
        "CERN\n",
        "COST\n",
        "DELL\n",
        "GPS\n",
        "INTC\n",
        "MMM\n",
        "[stdout:110] \n",
        "AMD\n",
        "CERN\n",
        "COST\n",
        "DELL\n",
        "GPS\n",
        "INTC\n",
        "MMM\n",
        "[stdout:111] \n",
        "AMD\n",
        "CERN\n",
        "COST\n",
        "DELL\n",
        "GPS\n",
        "INTC\n",
        "MMM\n",
        "[stdout:112] \n",
        "AMD\n",
        "CERN\n",
        "COST\n",
        "DELL\n",
        "GPS\n",
        "INTC\n",
        "MMM\n",
        "[stdout:113] \n",
        "AMD\n",
        "CERN\n",
        "COST\n",
        "DELL\n",
        "GPS\n",
        "INTC\n",
        "MMM\n",
        "[stdout:114] \n",
        "AMD\n",
        "CERN\n",
        "COST\n",
        "DELL\n",
        "GPS\n",
        "INTC\n",
        "MMM\n",
        "[stdout:115] \n",
        "AMD\n",
        "CERN\n",
        "COST\n",
        "DELL\n",
        "GPS\n",
        "INTC\n",
        "MMM\n",
        "[stdout:116] \n",
        "AMD\n",
        "CERN\n",
        "COST\n",
        "DELL\n",
        "GPS\n",
        "INTC\n",
        "MMM\n",
        "[stdout:117] \n",
        "AMD\n",
        "CERN\n",
        "COST\n",
        "DELL\n",
        "GPS\n",
        "INTC\n",
        "MMM\n",
        "[stdout:118] \n",
        "AMD\n",
        "CERN\n",
        "COST\n",
        "DELL\n",
        "GPS\n",
        "INTC\n",
        "MMM\n",
        "[stdout:119] \n",
        "AMD\n",
        "CERN\n",
        "COST\n",
        "DELL\n",
        "GPS\n",
        "INTC\n",
        "MMM\n",
        "[stdout:120] \n",
        "AMD\n",
        "CERN\n",
        "COST\n",
        "DELL\n",
        "GPS\n",
        "INTC\n",
        "MMM\n",
        "[stdout:121] \n",
        "AMD\n",
        "CERN\n",
        "COST\n",
        "DELL\n",
        "GPS\n",
        "INTC\n",
        "MMM\n",
        "[stdout:122] \n",
        "AMD\n",
        "CERN\n",
        "COST\n",
        "DELL\n",
        "GPS\n",
        "INTC\n",
        "MMM\n",
        "[stdout:123] \n",
        "AMD\n",
        "CERN\n",
        "COST\n",
        "DELL\n",
        "GPS\n",
        "INTC\n",
        "MMM\n",
        "[stdout:124] \n",
        "AMD\n",
        "CERN\n",
        "COST\n",
        "DELL\n",
        "GPS\n",
        "INTC\n",
        "MMM\n",
        "[stdout:125] \n",
        "AMD\n",
        "CERN\n",
        "COST\n",
        "DELL\n",
        "GPS\n",
        "INTC\n",
        "MMM\n",
        "[stdout:126] \n",
        "AMD\n",
        "CERN\n",
        "COST\n",
        "DELL\n",
        "GPS\n",
        "INTC\n",
        "MMM\n",
        "[stdout:127] \n",
        "AMD\n",
        "CERN\n",
        "COST\n",
        "DELL\n",
        "GPS\n",
        "INTC\n",
        "MMM\n",
        "[stdout:128] \n",
        "AMD\n",
        "CERN\n",
        "COST\n",
        "DELL\n",
        "GPS\n",
        "INTC\n",
        "MMM\n",
        "[stdout:129] \n",
        "AMD\n",
        "CERN\n",
        "COST\n",
        "DELL\n",
        "GPS\n",
        "INTC\n",
        "MMM\n",
        "[stdout:130] \n",
        "AMD\n",
        "CERN\n",
        "COST\n",
        "DELL\n",
        "GPS\n",
        "INTC\n",
        "MMM\n",
        "[stdout:131] \n",
        "AMD\n",
        "CERN\n",
        "COST\n",
        "DELL\n",
        "GPS\n",
        "INTC\n",
        "MMM\n",
        "[stdout:132] \n",
        "AMD\n",
        "CERN\n",
        "COST\n",
        "DELL\n",
        "GPS\n",
        "INTC\n",
        "MMM\n",
        "[stdout:133] \n",
        "AMD\n",
        "CERN\n",
        "COST\n",
        "DELL\n",
        "GPS\n",
        "INTC\n",
        "MMM\n",
        "[stdout:134] \n",
        "AMD\n",
        "CERN\n",
        "COST\n",
        "DELL\n",
        "GPS\n",
        "INTC\n",
        "MMM\n",
        "[stdout:135] \n",
        "AMD\n",
        "CERN\n",
        "COST\n",
        "DELL\n",
        "GPS\n",
        "INTC\n",
        "MMM\n",
        "[stdout:136] \n",
        "AMD\n",
        "CERN\n",
        "COST\n",
        "DELL\n",
        "GPS\n",
        "INTC\n",
        "MMM\n",
        "[stdout:137] \n",
        "AMD\n",
        "CERN\n",
        "COST\n",
        "DELL\n",
        "GPS\n",
        "INTC\n",
        "MMM\n",
        "[stdout:138] \n",
        "AMD\n",
        "CERN\n",
        "COST\n",
        "DELL\n",
        "GPS\n",
        "INTC\n",
        "MMM\n",
        "[stdout:139] \n",
        "AMD\n",
        "CERN\n",
        "COST\n",
        "DELL\n",
        "GPS\n",
        "INTC\n",
        "MMM\n",
        "[stdout:140] \n",
        "AMD\n",
        "CERN\n",
        "COST\n",
        "DELL\n",
        "GPS\n",
        "INTC\n",
        "MMM\n",
        "[stdout:141] \n",
        "AMD\n",
        "CERN\n",
        "COST\n",
        "DELL\n",
        "GPS\n",
        "INTC\n",
        "MMM\n",
        "[stdout:142] \n",
        "AMD\n",
        "CERN\n",
        "COST\n",
        "DELL\n",
        "GPS\n",
        "INTC\n",
        "MMM\n",
        "[stdout:143] \n",
        "AMD\n",
        "CERN\n",
        "COST\n",
        "DELL\n",
        "GPS\n",
        "INTC\n",
        "MMM\n",
        "[stdout:144] \n",
        "AMD\n",
        "CERN\n",
        "COST\n",
        "DELL\n",
        "GPS\n",
        "INTC\n",
        "MMM\n",
        "[stdout:145] \n",
        "AMD\n",
        "CERN\n",
        "COST\n",
        "DELL\n",
        "GPS\n",
        "INTC\n",
        "MMM\n",
        "[stdout:146] \n",
        "AMD\n",
        "CERN\n",
        "COST\n",
        "DELL\n",
        "GPS\n",
        "INTC\n",
        "MMM\n",
        "[stdout:147] \n",
        "AMD\n",
        "CERN\n",
        "COST\n",
        "DELL\n",
        "GPS\n",
        "INTC\n",
        "MMM\n",
        "[stdout:148] \n",
        "AMD\n",
        "CERN\n",
        "COST\n",
        "DELL\n",
        "GPS\n",
        "INTC\n",
        "MMM\n",
        "[stdout:149] \n",
        "AMD\n",
        "CERN\n",
        "COST\n",
        "DELL\n",
        "GPS\n",
        "INTC\n",
        "MMM\n",
        "[stdout:150] \n",
        "AMD\n",
        "CERN\n",
        "COST\n",
        "DELL\n",
        "GPS\n",
        "INTC\n",
        "MMM\n",
        "[stdout:151] \n",
        "AMD\n",
        "CERN\n",
        "COST\n",
        "DELL\n",
        "GPS\n",
        "INTC\n",
        "MMM\n",
        "[stdout:152] \n",
        "AMD\n",
        "CERN\n",
        "COST\n",
        "DELL\n",
        "GPS\n",
        "INTC\n",
        "MMM\n",
        "[stdout:153] \n",
        "AMD\n",
        "CERN\n",
        "COST\n",
        "DELL\n",
        "GPS\n",
        "INTC\n",
        "MMM\n",
        "[stdout:154] \n",
        "AMD\n",
        "CERN\n",
        "COST\n",
        "DELL\n",
        "GPS\n",
        "INTC\n",
        "MMM\n",
        "[stdout:155] \n",
        "AMD\n",
        "CERN\n",
        "COST\n",
        "DELL\n",
        "GPS\n",
        "INTC\n",
        "MMM\n",
        "[stdout:156] \n",
        "AMD\n",
        "CERN\n",
        "COST\n",
        "DELL\n",
        "GPS\n",
        "INTC\n",
        "MMM\n",
        "[stdout:157] \n",
        "AMD\n",
        "CERN\n",
        "COST\n",
        "DELL\n",
        "GPS\n",
        "INTC\n",
        "MMM\n",
        "[stdout:158] \n",
        "AMD\n",
        "CERN\n",
        "COST\n",
        "DELL\n",
        "GPS\n",
        "INTC\n",
        "MMM\n"
       ]
      }
     ],
     "prompt_number": 17
    },
    {
     "cell_type": "code",
     "collapsed": false,
     "input": [
      "def run_olmar(params):\n",
      "    olmar = OLMAR(eps=params[0], window_length=params[1])\n",
      "    results = olmar.run(data)\n",
      "    return results.portfolio_value.mean()"
     ],
     "language": "python",
     "metadata": {
      "slideshow": {
       "slide_type": "skip"
      }
     },
     "outputs": [],
     "prompt_number": 18
    },
    {
     "cell_type": "code",
     "collapsed": false,
     "input": [
      "eps = np.linspace(1.1, 40, len(queue_sc))\n",
      "print eps"
     ],
     "language": "python",
     "metadata": {
      "slideshow": {
       "slide_type": "slide"
      }
     },
     "outputs": [
      {
       "output_type": "stream",
       "stream": "stdout",
       "text": [
        "[  1.1          1.89387755   2.6877551    3.48163265   4.2755102\n",
        "   5.06938776   5.86326531   6.65714286   7.45102041   8.24489796\n",
        "   9.03877551   9.83265306  10.62653061  11.42040816  12.21428571\n",
        "  13.00816327  13.80204082  14.59591837  15.38979592  16.18367347\n",
        "  16.97755102  17.77142857  18.56530612  19.35918367  20.15306122\n",
        "  20.94693878  21.74081633  22.53469388  23.32857143  24.12244898\n",
        "  24.91632653  25.71020408  26.50408163  27.29795918  28.09183673\n",
        "  28.88571429  29.67959184  30.47346939  31.26734694  32.06122449\n",
        "  32.85510204  33.64897959  34.44285714  35.23673469  36.03061224\n",
        "  36.8244898   37.61836735  38.4122449   39.20612245  40.        ]\n"
       ]
      }
     ],
     "prompt_number": 12
    },
    {
     "cell_type": "code",
     "collapsed": false,
     "input": [
      "wealth = queue_sc.map_sync(run_olmar, eps)"
     ],
     "language": "python",
     "metadata": {
      "slideshow": {
       "slide_type": "fragment"
      }
     },
     "outputs": [],
     "prompt_number": 8
    },
    {
     "cell_type": "code",
     "collapsed": false,
     "input": [
      "plt.plot(eps, wealth)"
     ],
     "language": "python",
     "metadata": {
      "slideshow": {
       "slide_type": "fragment"
      }
     },
     "outputs": [
      {
       "output_type": "pyout",
       "prompt_number": 9,
       "text": [
        "[<matplotlib.lines.Line2D at 0xcf829ec>]"
       ]
      },
      {
       "output_type": "display_data",
       "png": "[encoded data removed]"
      }
     ],
     "prompt_number": 9
    },
    {
     "cell_type": "heading",
     "level": 1,
     "metadata": {
      "slideshow": {
       "slide_type": "slide"
      }
     },
     "source": [
      "Optimization techniques"
     ]
    },
    {
     "cell_type": "markdown",
     "metadata": {
      "slideshow": {
       "slide_type": "slide"
      }
     },
     "source": [
      "Walk-forward optimization\n",
      "-------------------------\n",
      "\n",
      "<img width=\"40%\" height=\"40%\" src=http://blog.quantopian.com/wp-content/uploads/2012/07/iterative-img.png>\n",
      "\n",
      "[Blog post](http://blog.quantopian.com/parameter-optimization/)"
     ]
    },
    {
     "cell_type": "markdown",
     "metadata": {
      "slideshow": {
       "slide_type": "slide"
      }
     },
     "source": [
      "Bayesian Optimization via Gaussian Processes. \n",
      "---------------------------------------------\n",
      "\n",
      "<img src='http://i.imgur.com/lOVwOp1.png'/>\n",
      "\n",
      "See Snoek, J., Larochelle, H., & Adams, R. P. (2012). Practical Bayesian Optimization of Machine Learning Algorithms, 1\u201312. Machine Learning; Learning. Retrieved from [http://arxiv.org/abs/1206.2944](http://arxiv.org/abs/1206.2944)"
     ]
    },
    {
     "cell_type": "markdown",
     "metadata": {
      "slideshow": {
       "slide_type": "subslide"
      }
     },
     "source": [
      "Also supports parallel optimization\n",
      "-----------------------------------\n",
      "\n",
      "<img src=\"http://i.imgur.com/H24eKNd.png\"/>\n",
      "\n",
      "[Open-source implementation](https://github.com/JasperSnoek/spearmint)"
     ]
    },
    {
     "cell_type": "markdown",
     "metadata": {
      "slideshow": {
       "slide_type": "slide"
      }
     },
     "source": [
      "[HyperOpt package](http://jaberg.github.com/hyperopt/)\n",
      "----------------"
     ]
    },
    {
     "cell_type": "code",
     "collapsed": false,
     "input": [
      "# define a search space\n",
      "from hyperopt import hp\n",
      "space = hp.choice('a',\n",
      "    [\n",
      "        ('case 1', 1 + hp.lognormal('c1', 0, 1)),\n",
      "        ('case 2', hp.uniform('c2', -10, 10))\n",
      "    ])"
     ],
     "language": "python",
     "metadata": {},
     "outputs": []
    },
    {
     "cell_type": "markdown",
     "metadata": {
      "slideshow": {
       "slide_type": "slide"
      }
     },
     "source": [
      "Conclusions\n",
      "===========\n",
      "\n",
      "* Optimizing large-scale models is a different game.\n",
      "* Technical solutions:\n",
      "    * IPython Parallel\n",
      "    * StarCluster\n",
      "* Methodological solutions:\n",
      "    * Can borrow from Machine Learning."
     ]
    },
    {
     "cell_type": "markdown",
     "metadata": {
      "slideshow": {
       "slide_type": "slide"
      }
     },
     "source": [
      "Thanks!\n",
      "=======\n",
      "\n",
      "Thomas Wiecki\n",
      "\n",
      "email: twiecki@quantopian.com\n",
      "\n",
      "Twitter: @twiecki, @quantopian\n",
      "\n",
      "GitHub: twiecki\n"
     ]
    },
    {
     "cell_type": "markdown",
     "metadata": {
      "slideshow": {
       "slide_type": "slide"
      }
     },
     "source": [
      "IPython slideshow powered by nbconvert\n",
      "======================================\n",
      "\n",
      "[Tutorial](http://www.slideviper.oquanta.info/tutorial/slideshow_tutorial_slides.html#/)\n",
      "\n",
      "Thanks to Dami\u00e1n Avila for helpful comments."
     ]
    }
   ],
   "metadata": {}
  }
 ]
}