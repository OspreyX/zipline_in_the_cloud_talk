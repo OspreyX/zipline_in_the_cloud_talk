{
 "metadata": {
  "name": "zipline_picloud"
 },
 "nbformat": 3,
 "nbformat_minor": 0,
 "worksheets": [
  {
   "cells": [
    {
     "cell_type": "markdown",
     "metadata": {
      "slideshow": {
       "slide_type": "slide"
      }
     },
     "source": [
      "Zipline in the Cloud: PiCloud edition\n",
      "=====================================\n",
      "\n",
      "Thomas Wiecki\n",
      "\n",
      "![](http://www.mountainexposures.co.uk/images/Sunset-over-a-cloud-inversion.jpg)\n",
      "\n",
      "Source: http://www.mountainexposures.co.uk\n",
      "<!---\n",
      "![Zipline in the Cloud](http://farm3.staticflickr.com/2088/2248835305_95e779ff4e_z.jpg)\n",
      "http://images.nationalgeographic.com/wpf/media-live/photos/000/212/cache/sugarloaf-mountain-cable-cars_21251_600x450.jpg\n",
      "--->"
     ]
    },
    {
     "cell_type": "markdown",
     "metadata": {
      "slideshow": {
       "slide_type": "slide"
      }
     },
     "source": [
      "[Zipline](http://zipline.io/)\n",
      "==============================\n",
      "\n",
      "* Open-source backtester written in Python.\n",
      "* Simulates real trading:\n",
      "    * Transaction costs\n",
      "    * Slippage\n",
      "    * Streaming of financial data:\n",
      "        * prevents look-ahead bias.\n",
      "        * portable to live-trading.\n",
      "* Batteries included: moving average, alpha, beta, Sharpe ratio...\n",
      "* Used in production on [Quantopian](http://www.quantopian.com), a free web-platform to develop financial trading algorithms."
     ]
    },
    {
     "cell_type": "markdown",
     "metadata": {},
     "source": [
      "[PiCloud](http://www.picloud.com/)\n",
      "=======\n",
      "\n",
      "* Easy to use Python library for cloud computing.\n",
      "* Supports sharing of environments.\n",
      "* Quantopian released official zipline environment for you to use (**'/Quantopian/zipline_official'**)"
     ]
    },
    {
     "cell_type": "markdown",
     "metadata": {},
     "source": [
      "The following is based on a talk I gave at [PyData'13](http://pydata.org/abstracts/#25). \n",
      "======================================================\n",
      "\n",
      "You can view the slides [here](http://twiecki.github.com/zipline_in_the_cloud_talk/). While this talk uses IPython Parallel and StarCluster you can get the same running on PiCloud with even less overhead, as shown here."
     ]
    },
    {
     "cell_type": "markdown",
     "metadata": {
      "slideshow": {
       "slide_type": "slide"
      }
     },
     "source": [
      "Algorithm\n",
      "==========\n",
      "\n",
      "* Found this article:\n",
      "\n",
      "![](http://i.imgur.com/0rdogCb.png)\n",
      "\n",
      "* Intuitively, this algorithm assumes that stocks revert to their moving average and (optimally) rebalances its portfolio to maximize the expected reward. The algorithm tries to not alter the portfolio to drastically at each time-point.\n",
      "* Posted this article on Quantopian."
     ]
    },
    {
     "cell_type": "heading",
     "level": 2,
     "metadata": {},
     "source": [
      "User Grant Kiehne along with several other Quantopians help implement the strategy."
     ]
    },
    {
     "cell_type": "code",
     "collapsed": false,
     "input": [
      "from IPython.display import HTML\n",
      "HTML(\"<iframe src=https://www.quantopian.com/posts/olmar-implementation-fixed-bug width=1100 height=350></iframe>\")"
     ],
     "language": "python",
     "metadata": {
      "slideshow": {
       "slide_type": "slide"
      }
     },
     "outputs": [
      {
       "html": [
        "<iframe src=https://www.quantopian.com/posts/olmar-implementation-fixed-bug width=1100 height=350></iframe>"
       ],
       "output_type": "pyout",
       "prompt_number": 9,
       "text": [
        "<IPython.core.display.HTML at 0x9e8f1ec>"
       ]
      }
     ],
     "prompt_number": 9
    },
    {
     "cell_type": "markdown",
     "metadata": {},
     "source": [
      "Parameter Optimization\n",
      "======================\n",
      "\n",
      "Critically, the algorithm (ported to zipline below) has two parameters that influence its behavior drastically. How are we to choose them? With PiCloud we can quickly evaluate many parameter values in parallel in the cloud."
     ]
    },
    {
     "cell_type": "markdown",
     "metadata": {},
     "source": [
      "First, import numpy and picloud."
     ]
    },
    {
     "cell_type": "code",
     "collapsed": false,
     "input": [
      "%pylab inline\n",
      "\n",
      "import numpy as np\n",
      "import datetime\n",
      "\n",
      "import cloud"
     ],
     "language": "python",
     "metadata": {
      "slideshow": {
       "slide_type": "skip"
      }
     },
     "outputs": [
      {
       "output_type": "stream",
       "stream": "stdout",
       "text": [
        "\n",
        "Welcome to pylab, a matplotlib-based Python environment [backend: module://IPython.kernel.zmq.pylab.backend_inline].\n",
        "For more information, type 'help(pylab)'.\n"
       ]
      }
     ],
     "prompt_number": 26
    },
    {
     "cell_type": "markdown",
     "metadata": {},
     "source": [
      "In order to run a job on a remote PiCloud worker, the arguments must be pickable. Instead of serializing an existing object we send the code for the class and recreate it in each worker. We also load the data in each worker although we could also send it."
     ]
    },
    {
     "cell_type": "code",
     "collapsed": false,
     "input": [
      "def run_olmar_picloud(eps):\n",
      "    # Local imports\n",
      "    import sys\n",
      "    import logbook\n",
      "    zipline_logging = logbook.NestedSetup([\n",
      "        logbook.NullHandler(level=logbook.DEBUG, bubble=True),\n",
      "        logbook.StreamHandler(sys.stdout, level=logbook.INFO),\n",
      "        logbook.StreamHandler(sys.stderr, level=logbook.ERROR),\n",
      "    ])\n",
      "    zipline_logging.push_application()\n",
      "\n",
      "    import numpy as np\n",
      "    import datetime\n",
      "    import zipline\n",
      "    from zipline.algorithm import TradingAlgorithm\n",
      "\n",
      "    # Stocks we will test our algorithm on.\n",
      "    STOCKS = ['AMD', 'CERN', 'COST', 'DELL', 'GPS', 'INTC', 'MMM']\n",
      "\n",
      "    # Actual zipline algorithm.\n",
      "    class OLMAR(TradingAlgorithm):\n",
      "        def initialize(self, eps=1, window_length=5):\n",
      "            self.stocks = STOCKS\n",
      "            self.m = len(self.stocks)\n",
      "            self.price = {}\n",
      "            self.b_t = np.ones(self.m) / self.m\n",
      "            self.last_desired_port = np.ones(self.m) / self.m\n",
      "            self.eps = eps\n",
      "            self.init = True\n",
      "            self.days = 0\n",
      "            self.window_length = window_length\n",
      "            self.add_transform(zipline.transforms.MovingAverage, 'mavg', ['price'],\n",
      "                               window_length=window_length)\n",
      "        \n",
      "            self.set_slippage(zipline.finance.slippage.FixedSlippage())\n",
      "            self.set_commission(zipline.finance.commission.PerShare(cost=0))\n",
      "\n",
      "        def handle_data(self, data):\n",
      "            self.days += 1\n",
      "            if self.days < self.window_length:\n",
      "               return\n",
      "        \n",
      "            if self.init:\n",
      "                self.rebalance_portfolio(data, self.b_t)\n",
      "                self.init = False\n",
      "                return\n",
      "\n",
      "            m = self.m\n",
      "\n",
      "            x_tilde = np.zeros(m)\n",
      "            b = np.zeros(m)\n",
      "\n",
      "            # find relative moving average price for each security\n",
      "            for i, stock in enumerate(self.stocks):\n",
      "                price = data[stock].price\n",
      "                # Relative mean deviation\n",
      "                x_tilde[i] = data[stock]['mavg']['price'] / price\n",
      "\n",
      "            ###########################\n",
      "            # Inside of OLMAR (algo 2)\n",
      "            x_bar = x_tilde.mean()\n",
      "        \n",
      "            # market relative deviation\n",
      "            mark_rel_dev = x_tilde - x_bar\n",
      "\n",
      "            # Expected return with current portfolio\n",
      "            exp_return = np.dot(self.b_t, x_tilde)\n",
      "            weight = self.eps - exp_return\n",
      "\n",
      "            variability = (np.linalg.norm(mark_rel_dev))**2\n",
      "\n",
      "            if variability == 0.0:\n",
      "                step_size = 0 # no portolio update\n",
      "            else:\n",
      "                step_size = max(0, weight/variability)\n",
      "\n",
      "            b = self.b_t + step_size*mark_rel_dev\n",
      "            b_norm = simplex_projection(b)\n",
      "        \n",
      "            self.rebalance_portfolio(data, b_norm)\n",
      "        \n",
      "            # Predicted return with new portfolio\n",
      "            pred_return = np.dot(b_norm, x_tilde)\n",
      "    \n",
      "            # update portfolio\n",
      "            self.b_t = b_norm\n",
      "\n",
      "        def rebalance_portfolio(self, data, desired_port):\n",
      "            #rebalance portfolio\n",
      "            desired_amount = np.zeros_like(desired_port)\n",
      "            current_amount = np.zeros_like(desired_port)\n",
      "            prices = np.zeros_like(desired_port)\n",
      "        \n",
      "            if self.init:\n",
      "                positions_value = self.portfolio.starting_cash\n",
      "            else:\n",
      "                positions_value = self.portfolio.positions_value + self.portfolio.cash\n",
      "        \n",
      "            for i, stock in enumerate(self.stocks):\n",
      "                current_amount[i] = self.portfolio.positions[stock].amount\n",
      "                prices[i] = data[stock].price\n",
      "        \n",
      "            desired_amount = np.round(desired_port * positions_value / prices)\n",
      "            diff_amount = desired_amount - current_amount\n",
      "\n",
      "            for i, stock in enumerate(self.stocks):\n",
      "                self.order(stock, diff_amount[i]) #order_stock\n",
      "\n",
      "    def simplex_projection(v, b=1):\n",
      "        \"\"\"Projection vectors to the simplex domain\n",
      "\n",
      "        Implemented according to the paper: Efficient projections onto the\n",
      "        l1-ball for learning in high dimensions, John Duchi, et al. ICML 2008.\n",
      "        Implementation Time: 2011 June 17 by Bin@libin AT pmail.ntu.edu.sg\n",
      "        Optimization Problem: min_{w}\\| w - v \\|_{2}^{2}\n",
      "        s.t. sum_{i=1}^{m}=z, w_{i}\\geq 0\n",
      "\n",
      "        Input: A vector v \\in R^{m}, and a scalar z > 0 (default=1)\n",
      "        Output: Projection vector w\n",
      "\n",
      "        :Example:\n",
      "        >>> proj = simplex_projection([.4 ,.3, -.4, .5])\n",
      "        >>> print proj\n",
      "        array([ 0.33333333, 0.23333333, 0. , 0.43333333])\n",
      "        >>> print proj.sum()\n",
      "        1.0\n",
      "\n",
      "        Original matlab implementation: John Duchi (jduchi@cs.berkeley.edu)\n",
      "        Python-port: Copyright 2012 by Thomas Wiecki (thomas.wiecki@gmail.com).\n",
      "        \"\"\"\n",
      "\n",
      "        v = np.asarray(v)\n",
      "        p = len(v)\n",
      "\n",
      "        # Sort v into u in descending order\n",
      "        v = (v > 0) * v\n",
      "        u = np.sort(v)[::-1]\n",
      "        sv = np.cumsum(u)\n",
      "\n",
      "        rho = np.where(u > (sv - b) / np.arange(1, p+1))[0][-1]\n",
      "        theta = np.max([0, (sv[rho] - b) / (rho+1)])\n",
      "        w = (v - theta)\n",
      "        w[w<0] = 0\n",
      "        return w\n",
      "\n",
      "    # Load the data\n",
      "    start = datetime.datetime(2001, 8, 1)\n",
      "    end = datetime.datetime(2013, 2, 1)\n",
      "    data = zipline.utils.factory.load_from_yahoo(stocks=STOCKS, indexes={}, start=start, end=end)\n",
      "    data = data.dropna()\n",
      "    \n",
      "    # Create and run model\n",
      "    olmar = OLMAR(eps=eps)\n",
      "    results = olmar.run(data)\n",
      "    \n",
      "    # Here we are only interested in the mean wealth over time.\n",
      "    return results.portfolio_value.mean()"
     ],
     "language": "python",
     "metadata": {
      "slideshow": {
       "slide_type": "skip"
      }
     },
     "outputs": [],
     "prompt_number": 19
    },
    {
     "cell_type": "markdown",
     "metadata": {},
     "source": [
      "Lets explore how the eps parameter influences the performance. Intuitively, the `eps` parameter influences how aggressively we are rebalancing our portfolio at each step. Low values will make the algorithm more conservative."
     ]
    },
    {
     "cell_type": "code",
     "collapsed": false,
     "input": [
      "eps = np.linspace(1.1, 40, 30)\n",
      "print eps"
     ],
     "language": "python",
     "metadata": {},
     "outputs": [
      {
       "output_type": "stream",
       "stream": "stdout",
       "text": [
        "[  1.1          2.44137931   3.78275862   5.12413793   6.46551724\n",
        "   7.80689655   9.14827586  10.48965517  11.83103448  13.17241379\n",
        "  14.5137931   15.85517241  17.19655172  18.53793103  19.87931034\n",
        "  21.22068966  22.56206897  23.90344828  25.24482759  26.5862069\n",
        "  27.92758621  29.26896552  30.61034483  31.95172414  33.29310345\n",
        "  34.63448276  35.97586207  37.31724138  38.65862069  40.        ]\n"
       ]
      }
     ],
     "prompt_number": 6
    },
    {
     "cell_type": "markdown",
     "metadata": {},
     "source": [
      "This (non-blocking) call distributes the jobs to PiCloud. We also specify the public zipline environment that has zipline and all other dependencies installed."
     ]
    },
    {
     "cell_type": "code",
     "collapsed": false,
     "input": [
      "jids = cloud.map(run_olmar_picloud, eps, _env='/Quantopian/zipline_official')"
     ],
     "language": "python",
     "metadata": {
      "slideshow": {
       "slide_type": "fragment"
      }
     },
     "outputs": [],
     "prompt_number": 31
    },
    {
     "cell_type": "markdown",
     "metadata": {},
     "source": [
      "This call will wait for all jobs to finish."
     ]
    },
    {
     "cell_type": "code",
     "collapsed": false,
     "input": [
      "wealth = cloud.result(jids)"
     ],
     "language": "python",
     "metadata": {},
     "outputs": [],
     "prompt_number": 32
    },
    {
     "cell_type": "markdown",
     "metadata": {},
     "source": [
      "Plot results."
     ]
    },
    {
     "cell_type": "code",
     "collapsed": false,
     "input": [
      "plt.plot(eps, wealth)\n",
      "plt.xlabel('eps')\n",
      "plt.ylabel('wealth')"
     ],
     "language": "python",
     "metadata": {
      "slideshow": {
       "slide_type": "fragment"
      }
     },
     "outputs": [
      {
       "output_type": "pyout",
       "prompt_number": 25,
       "text": [
        "<matplotlib.text.Text at 0xb2a7aac>"
       ]
      },
      {
       "output_type": "display_data",
       "png": "[encoded data removed]",
       "text": [
        "<matplotlib.figure.Figure at 0xb1780ec>"
       ]
      }
     ],
     "prompt_number": 25
    },
    {
     "cell_type": "markdown",
     "metadata": {},
     "source": [
      "Homework ;)\n",
      "-----------\n",
      "\n",
      "* Explore how the window size of the mavg influence performance.\n",
      "* Explore how both, eps and window size influence performance.\n",
      "* Instead of trying all values, run a heuristic optimizer like Particle Swarm or Bayesian Optimization.\n",
      "    * If you do this, please write me an email at thomas@quantopian.com\n",
      "* Clone the algorithm on (Quantopian)[https://www.quantopian.com/posts/olmar-implementation-fixed-bug] and try how well those values perform on different stocks and 10 year of high-quality data."
     ]
    },
    {
     "cell_type": "markdown",
     "metadata": {
      "slideshow": {
       "slide_type": "slide"
      }
     },
     "source": [
      "Thanks!\n",
      "=======\n",
      "\n",
      "Thomas Wiecki\n",
      "\n",
      "email: twiecki@quantopian.com\n",
      "\n",
      "Twitter: @twiecki, @quantopian\n",
      "\n",
      "GitHub: twiecki\n"
     ]
    }
   ],
   "metadata": {}
  }
 ]
}